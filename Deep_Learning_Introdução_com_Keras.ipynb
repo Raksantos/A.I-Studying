{
  "nbformat": 4,
  "nbformat_minor": 0,
  "metadata": {
    "colab": {
      "name": "Deep Learning: Introdução com Keras.ipynb",
      "provenance": [],
      "collapsed_sections": [],
      "toc_visible": true,
      "authorship_tag": "ABX9TyPLofg26mxDfkv+FZVPEzyf",
      "include_colab_link": true
    },
    "kernelspec": {
      "name": "python3",
      "display_name": "Python 3"
    },
    "language_info": {
      "name": "python"
    }
  },
  "cells": [
    {
      "cell_type": "markdown",
      "metadata": {
        "id": "view-in-github",
        "colab_type": "text"
      },
      "source": [
        "<a href=\"https://colab.research.google.com/github/Raksantos/A.I-Studying/blob/master/Deep_Learning_Introdu%C3%A7%C3%A3o_com_Keras.ipynb\" target=\"_parent\"><img src=\"https://colab.research.google.com/assets/colab-badge.svg\" alt=\"Open In Colab\"/></a>"
      ]
    },
    {
      "cell_type": "markdown",
      "metadata": {
        "id": "g5euU8qeZ6Wj"
      },
      "source": [
        "#Aula 1: Conhecendo o conjunto de dados"
      ]
    },
    {
      "cell_type": "code",
      "metadata": {
        "id": "gWkOrOF5m-Ll"
      },
      "source": [
        "import tensorflow\n",
        "from tensorflow import keras\n",
        "import matplotlib.pyplot as plt\n",
        "import numpy as np"
      ],
      "execution_count": null,
      "outputs": []
    },
    {
      "cell_type": "code",
      "metadata": {
        "id": "kGI9lyUDZUJ7",
        "colab": {
          "base_uri": "https://localhost:8080/"
        },
        "outputId": "400d05e9-b90f-4f65-b2bd-f11d220567f7"
      },
      "source": [
        "dataset = keras.datasets.fashion_mnist\n",
        "((imagens_treino, identificacoes_treino), (imagens_teste, identificacoes_teste)) = dataset.load_data()\n",
        "\n",
        "imagens_treino.shape"
      ],
      "execution_count": null,
      "outputs": [
        {
          "output_type": "stream",
          "text": [
            "Downloading data from https://storage.googleapis.com/tensorflow/tf-keras-datasets/train-labels-idx1-ubyte.gz\n",
            "32768/29515 [=================================] - 0s 0us/step\n",
            "Downloading data from https://storage.googleapis.com/tensorflow/tf-keras-datasets/train-images-idx3-ubyte.gz\n",
            "26427392/26421880 [==============================] - 0s 0us/step\n",
            "Downloading data from https://storage.googleapis.com/tensorflow/tf-keras-datasets/t10k-labels-idx1-ubyte.gz\n",
            "8192/5148 [===============================================] - 0s 0us/step\n",
            "Downloading data from https://storage.googleapis.com/tensorflow/tf-keras-datasets/t10k-images-idx3-ubyte.gz\n",
            "4423680/4422102 [==============================] - 0s 0us/step\n"
          ],
          "name": "stdout"
        },
        {
          "output_type": "execute_result",
          "data": {
            "text/plain": [
              "(60000, 28, 28)"
            ]
          },
          "metadata": {
            "tags": []
          },
          "execution_count": 2
        }
      ]
    },
    {
      "cell_type": "markdown",
      "metadata": {
        "id": "-0kZQYSfnbWH"
      },
      "source": [
        "#Aula 2: Começando a montar o modelo"
      ]
    },
    {
      "cell_type": "code",
      "metadata": {
        "colab": {
          "base_uri": "https://localhost:8080/",
          "height": 298
        },
        "id": "_KHWEvo7c9b9",
        "outputId": "b61c00a2-87c1-4c87-f826-7d60d79be103"
      },
      "source": [
        "plt.imshow(imagens_treino[0])\n",
        "plt.title(identificacoes_treino[0])"
      ],
      "execution_count": null,
      "outputs": [
        {
          "output_type": "execute_result",
          "data": {
            "text/plain": [
              "Text(0.5, 1.0, '9')"
            ]
          },
          "metadata": {
            "tags": []
          },
          "execution_count": 3
        },
        {
          "output_type": "display_data",
          "data": {
            "image/png": "[encoded data removed]",
            "text/plain": [
              "<Figure size 432x288 with 1 Axes>"
            ]
          },
          "metadata": {
            "tags": [],
            "needs_background": "light"
          }
        }
      ]
    },
    {
      "cell_type": "code",
      "metadata": {
        "colab": {
          "base_uri": "https://localhost:8080/"
        },
        "id": "9yCGLlx_kJ-9",
        "outputId": "cfcf47ef-3da2-4c46-ddf9-e794614e68e5"
      },
      "source": [
        "print(\"Temos entre [%d, %d] classificações\" % (identificacoes_treino.min(), identificacoes_treino.max())) "
      ],
      "execution_count": null,
      "outputs": [
        {
          "output_type": "stream",
          "text": [
            "Temos entre [0, 9] classificações\n"
          ],
          "name": "stdout"
        }
      ]
    },
    {
      "cell_type": "code",
      "metadata": {
        "colab": {
          "base_uri": "https://localhost:8080/",
          "height": 357
        },
        "id": "pftNGU9TkiRM",
        "outputId": "9615779a-c153-435f-b66b-b832ce1483f3"
      },
      "source": [
        "plt.figure(figsize=(12,6))\n",
        "for imagem in range(10):\n",
        "  plt.subplot(2, 5, imagem+1)\n",
        "  plt.imshow(imagens_treino[imagem])  \n",
        "  plt.title(identificacoes_treino[imagem])"
      ],
      "execution_count": null,
      "outputs": [
        {
          "output_type": "display_data",
          "data": {
            "image/png": "[encoded data removed]",
            "text/plain": [
              "<Figure size 864x432 with 10 Axes>"
            ]
          },
          "metadata": {
            "tags": [],
            "needs_background": "light"
          }
        }
      ]
    },
    {
      "cell_type": "code",
      "metadata": {
        "colab": {
          "base_uri": "https://localhost:8080/",
          "height": 282
        },
        "id": "o6D_I9cQlF21",
        "outputId": "73309951-4a01-46f0-a3ca-869e67f1d911"
      },
      "source": [
        "nomes_classificacoes = ['Camiseta', 'Calça', \"Pullover\", \"Vestido\", \"Casaco\", \"Sandália\", \"Camisa\", \"Tênis\", \"Bolsa\", \"Bota\"]\n",
        "\n",
        "'''\n",
        "plt.figure(figsize=(12,6))\n",
        "for imagem in range(10):\n",
        "  plt.subplot(2, 5, imagem+1)\n",
        "  plt.imshow(imagens_treino[imagem])  \n",
        "  plt.title(nomes_classificacoes[identificacoes_treino[imagem]])\n",
        "'''\n",
        "plt.imshow(imagens_treino[0])\n",
        "plt.colorbar()"
      ],
      "execution_count": null,
      "outputs": [
        {
          "output_type": "execute_result",
          "data": {
            "text/plain": [
              "<matplotlib.colorbar.Colorbar at 0x7fb338b5ab10>"
            ]
          },
          "metadata": {
            "tags": []
          },
          "execution_count": 6
        },
        {
          "output_type": "display_data",
          "data": {
            "image/png": "[encoded data removed]",
            "text/plain": [
              "<Figure size 432x288 with 2 Axes>"
            ]
          },
          "metadata": {
            "tags": [],
            "needs_background": "light"
          }
        }
      ]
    },
    {
      "cell_type": "markdown",
      "metadata": {
        "id": "x4Jv1xoj_2g2"
      },
      "source": [
        "#Aula 3: Adicionando camadas ocultas"
      ]
    },
    {
      "cell_type": "code",
      "metadata": {
        "id": "dTlv17aMmpXn",
        "colab": {
          "base_uri": "https://localhost:8080/"
        },
        "outputId": "6b30a624-7bec-4ee0-c20e-99ca7881478d"
      },
      "source": [
        "#Normalização das imagens\n",
        "imagens_treino = imagens_treino/float(255)\n",
        "\n",
        "modelo = keras.Sequential([keras.layers.Flatten(input_shape=(28, 28)), \n",
        "                           keras.layers.Dense(256, activation=tensorflow.nn.relu), \n",
        "                           keras.layers.Dropout(0.2),\n",
        "                           keras.layers.Dense(10, activation=tensorflow.nn.softmax)])\n",
        "\n",
        "modelo.compile(optimizer='adam', \n",
        "               loss='sparse_categorical_crossentropy',\n",
        "               metrics=['accuracy'])\n",
        "historico = modelo.fit(imagens_treino, identificacoes_treino, epochs=5, validation_split=0.2)"
      ],
      "execution_count": null,
      "outputs": [
        {
          "output_type": "stream",
          "text": [
            "Epoch 1/5\n",
            "1500/1500 [==============================] - 5s 3ms/step - loss: 1.5056 - accuracy: 0.5336 - val_loss: 0.7018 - val_accuracy: 0.7508\n",
            "Epoch 2/5\n",
            "1500/1500 [==============================] - 4s 3ms/step - loss: 0.6958 - accuracy: 0.7498 - val_loss: 0.5964 - val_accuracy: 0.7769\n",
            "Epoch 3/5\n",
            "1500/1500 [==============================] - 4s 3ms/step - loss: 0.5988 - accuracy: 0.7841 - val_loss: 0.5393 - val_accuracy: 0.8073\n",
            "Epoch 4/5\n",
            "1500/1500 [==============================] - 4s 3ms/step - loss: 0.5434 - accuracy: 0.8048 - val_loss: 0.5063 - val_accuracy: 0.8163\n",
            "Epoch 5/5\n",
            "1500/1500 [==============================] - 4s 3ms/step - loss: 0.5178 - accuracy: 0.8173 - val_loss: 0.4895 - val_accuracy: 0.8216\n"
          ],
          "name": "stdout"
        }
      ]
    },
    {
      "cell_type": "markdown",
      "metadata": {
        "id": "IV7ETJIU_8g5"
      },
      "source": [
        "#Outras aulas e salvando modelo"
      ]
    },
    {
      "cell_type": "code",
      "metadata": {
        "colab": {
          "base_uri": "https://localhost:8080/",
          "height": 316
        },
        "id": "46Q4s81x04FB",
        "outputId": "bbcc0aed-9545-4b92-ae4d-db9ff6d32766"
      },
      "source": [
        "plt.plot(historico.history['accuracy'])\n",
        "plt.plot(historico.history['val_accuracy'])\n",
        "plt.title('Acurácia por Épocas')\n",
        "plt.xlabel('Época')\n",
        "plt.ylabel('Acurácia')\n",
        "plt.legend(['Treino', 'Validação'])"
      ],
      "execution_count": null,
      "outputs": [
        {
          "output_type": "execute_result",
          "data": {
            "text/plain": [
              "<matplotlib.legend.Legend at 0x7fb32b5f89d0>"
            ]
          },
          "metadata": {
            "tags": []
          },
          "execution_count": 47
        },
        {
          "output_type": "display_data",
          "data": {
            "image/png": "[encoded data removed]",
            "text/plain": [
              "<Figure size 432x288 with 1 Axes>"
            ]
          },
          "metadata": {
            "tags": [],
            "needs_background": "light"
          }
        }
      ]
    },
    {
      "cell_type": "code",
      "metadata": {
        "id": "R2pFD_OKN6a5",
        "colab": {
          "base_uri": "https://localhost:8080/",
          "height": 316
        },
        "outputId": "08a5bf8d-f2c7-465f-e648-f92e8a178251"
      },
      "source": [
        "plt.plot(historico.history['loss'])\n",
        "plt.plot(historico.history['val_loss'])\n",
        "plt.title('Perda por Épocas')\n",
        "plt.xlabel('Época')\n",
        "plt.ylabel('Perda')\n",
        "plt.legend(['Treino', 'Validação'])"
      ],
      "execution_count": null,
      "outputs": [
        {
          "output_type": "execute_result",
          "data": {
            "text/plain": [
              "<matplotlib.legend.Legend at 0x7fb32b589190>"
            ]
          },
          "metadata": {
            "tags": []
          },
          "execution_count": 48
        },
        {
          "output_type": "display_data",
          "data": {
            "image/png": "[encoded data removed]",
            "text/plain": [
              "<Figure size 432x288 with 1 Axes>"
            ]
          },
          "metadata": {
            "tags": [],
            "needs_background": "light"
          }
        }
      ]
    },
    {
      "cell_type": "code",
      "metadata": {
        "id": "iwXiwyNe514P",
        "colab": {
          "base_uri": "https://localhost:8080/"
        },
        "outputId": "d56f933c-a6a1-4b2e-9703-d2b9f6b5043b"
      },
      "source": [
        "testes = modelo.predict(imagens_teste)\n",
        "print(\"Resultado teste:\", np.argmax(testes[0]))\n",
        "print(\"Número da imagem de teste:\", identificacoes_teste[0])"
      ],
      "execution_count": null,
      "outputs": [
        {
          "output_type": "stream",
          "text": [
            "Resultado teste: 9\n",
            "Número da imagem de teste: 9\n"
          ],
          "name": "stdout"
        }
      ]
    },
    {
      "cell_type": "code",
      "metadata": {
        "colab": {
          "base_uri": "https://localhost:8080/"
        },
        "id": "-EkLfC8GLKPE",
        "outputId": "71ab73ab-be59-4fb0-95b9-c97917832946"
      },
      "source": [
        "perda_teste, accuracia_teste = modelo.evaluate(imagens_teste, identificacoes_teste)\n",
        "print('Perda do teste:', perda_teste)\n",
        "print('Acurácia do teste:', accuracia_teste * 100)"
      ],
      "execution_count": null,
      "outputs": [
        {
          "output_type": "stream",
          "text": [
            "313/313 [==============================] - 1s 2ms/step - loss: 43868.8555 - accuracy: 0.6843\n",
            "Perda do teste: 43868.85546875\n",
            "Acurácia do teste: 68.43000054359436\n"
          ],
          "name": "stdout"
        }
      ]
    },
    {
      "cell_type": "code",
      "metadata": {
        "id": "V9tGG6E_2_WR"
      },
      "source": [
        "from tensorflow.keras.models import load_model\n",
        "\n",
        "modelo.save('modelo.h5')\n",
        "modelo_salvo = load_model('modelo.h5')"
      ],
      "execution_count": null,
      "outputs": []
    },
    {
      "cell_type": "code",
      "metadata": {
        "colab": {
          "base_uri": "https://localhost:8080/"
        },
        "id": "Js2dxMQF_H0n",
        "outputId": "34cfd42f-d154-4d9c-eac4-c344e4d7f4e6"
      },
      "source": [
        "testes_modelo_salvo = modelo_salvo.predict(imagens_teste)\n",
        "print('resultado teste modelo salvo:', np.argmax(testes_modelo_salvo[1]))\n",
        "print(\"Número da imagem de teste:\", identificacoes_teste[1])"
      ],
      "execution_count": null,
      "outputs": [
        {
          "output_type": "stream",
          "text": [
            "resultado teste modelo salvo: 2\n",
            "Número da imagem de teste: 2\n"
          ],
          "name": "stdout"
        }
      ]
    },
    {
      "cell_type": "markdown",
      "metadata": {
        "id": "xnoHiaIHf0fB"
      },
      "source": [
        "#Sumário do modelo"
      ]
    },
    {
      "cell_type": "code",
      "metadata": {
        "id": "GbcOJnoZ_csT",
        "colab": {
          "base_uri": "https://localhost:8080/"
        },
        "outputId": "15771d4a-887d-4138-e22a-7367dbe911f3"
      },
      "source": [
        "modelo = modelo_salvo\n",
        "sumario_modelo = modelo.summary()\n",
        "sumario_modelo"
      ],
      "execution_count": null,
      "outputs": [
        {
          "output_type": "stream",
          "text": [
            "Model: \"sequential_1\"\n",
            "_________________________________________________________________\n",
            "Layer (type)                 Output Shape              Param #   \n",
            "=================================================================\n",
            "flatten_1 (Flatten)          (None, 784)               0         \n",
            "_________________________________________________________________\n",
            "dense_2 (Dense)              (None, 256)               200960    \n",
            "_________________________________________________________________\n",
            "dropout (Dropout)            (None, 256)               0         \n",
            "_________________________________________________________________\n",
            "dense_3 (Dense)              (None, 10)                2570      \n",
            "=================================================================\n",
            "Total params: 203,530\n",
            "Trainable params: 203,530\n",
            "Non-trainable params: 0\n",
            "_________________________________________________________________\n"
          ],
          "name": "stdout"
        }
      ]
    },
    {
      "cell_type": "markdown",
      "metadata": {
        "id": "kCDc_PP_f4Jy"
      },
      "source": [
        "#Pesos da camada Dense"
      ]
    },
    {
      "cell_type": "code",
      "metadata": {
        "colab": {
          "base_uri": "https://localhost:8080/"
        },
        "id": "NCVluGp_esL0",
        "outputId": "0bf402e0-1798-404d-9069-f133a90e5caa"
      },
      "source": [
        "pesos_camada_dense = modelo.layers[1].get_weights()[0]\n",
        "pesos_camada_dense"
      ],
      "execution_count": null,
      "outputs": [
        {
          "output_type": "execute_result",
          "data": {
            "text/plain": [
              "array([[ 0.9329985 ,  0.5038977 ,  0.7504843 , ...,  0.94997716,\n",
              "         0.09523156,  0.9459404 ],\n",
              "       [ 0.5443761 ,  0.11480618,  0.85205406, ...,  0.54801923,\n",
              "         0.7488612 , -0.12852946],\n",
              "       [ 0.02977615,  0.33415687,  0.62264854, ...,  0.7529606 ,\n",
              "        -0.11047983,  0.26684362],\n",
              "       ...,\n",
              "       [ 0.59470934,  0.3243402 ,  0.73353624, ...,  0.30301768,\n",
              "         0.82037485, -0.72399205],\n",
              "       [ 0.36580575,  0.14949267,  0.47575888, ...,  0.03170388,\n",
              "         0.6112658 , -0.34881318],\n",
              "       [ 0.08337901,  0.01043354,  0.7353513 , ...,  0.2136786 ,\n",
              "         0.7736203 ,  0.516638  ]], dtype=float32)"
            ]
          },
          "metadata": {
            "tags": []
          },
          "execution_count": 54
        }
      ]
    },
    {
      "cell_type": "code",
      "metadata": {
        "colab": {
          "base_uri": "https://localhost:8080/"
        },
        "id": "IE05z6vhfcal",
        "outputId": "67cc7b77-29ca-4086-adff-fbed65ce5eb5"
      },
      "source": [
        "vieses_camada_dense = modelo.layers[1].get_weights()[1]\n",
        "vieses_camada_dense.shape"
      ],
      "execution_count": null,
      "outputs": [
        {
          "output_type": "execute_result",
          "data": {
            "text/plain": [
              "(256,)"
            ]
          },
          "metadata": {
            "tags": []
          },
          "execution_count": 55
        }
      ]
    },
    {
      "cell_type": "code",
      "metadata": {
        "colab": {
          "base_uri": "https://localhost:8080/"
        },
        "id": "lyegNrv9h8oc",
        "outputId": "9c9b219f-923e-4f0f-992d-e79a3be9f1ea"
      },
      "source": [
        "print(pesos_camada_dense.shape)\n",
        "pesos_camada_dense_zerados = np.zeros((784, 256))\n",
        "pesos_camada_dense_aleatorios = np.random.rand(784, 256)\n",
        "\n",
        "'''\n",
        "modelo.layers[1].set_weights([pesos_camada_dense_zerados, vieses_camada_dense_zerados])\n",
        "'''\n",
        "\n",
        "modelo.layers[1].set_weights([pesos_camada_dense_aleatorios, vieses_camada_dense])\n",
        "\n",
        "modelo.layers[1].get_weights()"
      ],
      "execution_count": null,
      "outputs": [
        {
          "output_type": "stream",
          "text": [
            "(784, 256)\n"
          ],
          "name": "stdout"
        },
        {
          "output_type": "execute_result",
          "data": {
            "text/plain": [
              "[array([[0.60110706, 0.88621104, 0.97934157, ..., 0.38672292, 0.3577892 ,\n",
              "         0.16014752],\n",
              "        [0.7451884 , 0.67170143, 0.10289326, ..., 0.22693963, 0.7677618 ,\n",
              "         0.53986865],\n",
              "        [0.32533675, 0.3603443 , 0.07346341, ..., 0.77913994, 0.11571135,\n",
              "         0.8647518 ],\n",
              "        ...,\n",
              "        [0.7630903 , 0.55860865, 0.9817032 , ..., 0.8164169 , 0.7247013 ,\n",
              "         0.9120849 ],\n",
              "        [0.127305  , 0.12431207, 0.75120974, ..., 0.3596188 , 0.3547211 ,\n",
              "         0.8979845 ],\n",
              "        [0.6510566 , 0.7210557 , 0.52967685, ..., 0.26143774, 0.643251  ,\n",
              "         0.6235728 ]], dtype=float32),\n",
              " array([ 0.00374058, -0.14450096, -0.10994441, -0.17938386, -0.03085069,\n",
              "        -0.07186694, -0.06244821, -0.03893041, -0.03701283, -0.06797146,\n",
              "        -0.07786353, -0.01720646, -0.02930579, -0.03833322, -0.21546169,\n",
              "        -0.0853528 , -0.07361919,  0.13572589,  0.0668169 , -0.08159994,\n",
              "        -0.08897917, -0.08121926, -0.08778068, -0.0148554 , -0.06283172,\n",
              "        -0.07099143, -0.18522376, -0.01945481, -0.06879739, -0.10844164,\n",
              "        -0.09202164, -0.04628301, -0.10078143, -0.11112978, -0.00583739,\n",
              "        -0.1710519 , -0.03471146, -0.08703756, -0.07316559, -0.06463467,\n",
              "        -0.03604544, -0.03545742, -0.0787285 , -0.02948435, -0.07782476,\n",
              "        -0.05869413, -0.08539306, -0.10883554, -0.09720816, -0.04937391,\n",
              "        -0.07385069, -0.18136701, -0.03836758, -0.10992203, -0.07818542,\n",
              "        -0.02565725, -0.06868676, -0.19194143, -0.07778726, -0.02652079,\n",
              "        -0.06583102,  0.09096001, -0.04026646,  0.00804733, -0.04837031,\n",
              "        -0.13240367, -0.04295397, -0.03708581, -0.05783958, -0.01408863,\n",
              "        -0.12336348, -0.13462065, -0.00591146, -0.02879599, -0.07985421,\n",
              "        -0.05638223, -0.03014348, -0.06016712,  0.08280032, -0.05747468,\n",
              "        -0.08240131, -0.0860083 , -0.06087702, -0.18720369, -0.15478425,\n",
              "        -0.07950486, -0.07692435, -0.01486859, -0.10805639, -0.10587411,\n",
              "        -0.0596396 , -0.0645176 , -0.09972069, -0.0418058 , -0.12662067,\n",
              "        -0.11192167, -0.06241582, -0.01991517, -0.07085025, -0.12124425,\n",
              "        -0.11503737, -0.06430456, -0.07090302, -0.12559424, -0.04717375,\n",
              "        -0.04086478,  0.00143854, -0.06624944, -0.09226496, -0.07428655,\n",
              "        -0.00933516, -0.03569922, -0.0960889 , -0.08348245, -0.07034641,\n",
              "         0.20807229, -0.10332964, -0.06381825, -0.21771747, -0.08281339,\n",
              "        -0.09587577, -0.0783977 , -0.07476379, -0.01272881, -0.03467474,\n",
              "        -0.05491322, -0.0731333 , -0.03866964, -0.17935084, -0.0122994 ,\n",
              "        -0.08468898, -0.08861659, -0.01244188, -0.08749361, -0.20728955,\n",
              "        -0.03074488,  0.0241525 , -0.0524817 , -0.08895449, -0.14962235,\n",
              "        -0.06598249, -0.08928414, -0.02601071, -0.07834228, -0.01786575,\n",
              "        -0.09327216, -0.03576233, -0.05726145, -0.04026867, -0.02179304,\n",
              "        -0.01831205, -0.10882033, -0.02322832, -0.06373705,  0.04199084,\n",
              "        -0.10680544, -0.09374957, -0.01605814, -0.17952709, -0.03196812,\n",
              "        -0.05027193, -0.05950109, -0.13151146, -0.03806042, -0.18203257,\n",
              "        -0.04097028, -0.02008635, -0.0667415 , -0.03301553, -0.04801611,\n",
              "        -0.13118935, -0.01047236, -0.01743027, -0.0802315 , -0.03473324,\n",
              "        -0.04791323, -0.03967475, -0.01319851, -0.03955028, -0.10057072,\n",
              "        -0.10582765, -0.02430376, -0.11440443, -0.1380614 ,  0.00960249,\n",
              "        -0.04604131, -0.04198117, -0.0446208 , -0.06474418,  0.169984  ,\n",
              "        -0.06720311, -0.00926809, -0.01823908, -0.01908495, -0.07190558,\n",
              "        -0.0601385 , -0.10513715, -0.04445653, -0.04275515, -0.05466954,\n",
              "        -0.01650901, -0.02458068, -0.08203948, -0.08860423, -0.03734706,\n",
              "        -0.03473979, -0.03612891, -0.14966048, -0.06545389,  0.00402578,\n",
              "        -0.10278415, -0.05049865, -0.13586096, -0.13088286, -0.0391158 ,\n",
              "        -0.12570193, -0.01798176, -0.07584942, -0.08755588, -0.08183497,\n",
              "        -0.1619694 , -0.10095192, -0.05665734, -0.08750021, -0.06580887,\n",
              "        -0.06616502, -0.03542423, -0.0799808 , -0.05131315, -0.00414331,\n",
              "        -0.05472006, -0.21427709, -0.0814326 , -0.08186971, -0.17043859,\n",
              "        -0.02450084, -0.0814022 , -0.06867012, -0.05464995, -0.13131075,\n",
              "        -0.00924275, -0.03476007, -0.03904954, -0.07594209, -0.03335068,\n",
              "         0.1828316 , -0.03466678, -0.06922922, -0.06386462, -0.05045331,\n",
              "        -0.05034484, -0.09101145, -0.06644645, -0.04763846, -0.05533478,\n",
              "        -0.05736602], dtype=float32)]"
            ]
          },
          "metadata": {
            "tags": []
          },
          "execution_count": 56
        }
      ]
    },
    {
      "cell_type": "code",
      "metadata": {
        "colab": {
          "base_uri": "https://localhost:8080/"
        },
        "id": "hlMNBNLTg6nc",
        "outputId": "5dc76eba-b44b-4cd1-9790-e1641dc2f979"
      },
      "source": [
        "modelo.compile(optimizer='adam', \n",
        "               loss='sparse_categorical_crossentropy',\n",
        "               metrics=['accuracy'])\n",
        "historico = modelo.fit(imagens_treino, identificacoes_treino, epochs=5, validation_split=0.2)"
      ],
      "execution_count": null,
      "outputs": [
        {
          "output_type": "stream",
          "text": [
            "Epoch 1/5\n",
            "1500/1500 [==============================] - 5s 3ms/step - loss: 2.4657 - accuracy: 0.3860 - val_loss: 0.6715 - val_accuracy: 0.7648\n",
            "Epoch 2/5\n",
            "1500/1500 [==============================] - 4s 3ms/step - loss: 0.7937 - accuracy: 0.7231 - val_loss: 0.6083 - val_accuracy: 0.7854\n",
            "Epoch 3/5\n",
            "1500/1500 [==============================] - 4s 3ms/step - loss: 0.6589 - accuracy: 0.7680 - val_loss: 0.5523 - val_accuracy: 0.8034\n",
            "Epoch 4/5\n",
            "1500/1500 [==============================] - 4s 3ms/step - loss: 0.5875 - accuracy: 0.7929 - val_loss: 0.5243 - val_accuracy: 0.8143\n",
            "Epoch 5/5\n",
            "1500/1500 [==============================] - 4s 3ms/step - loss: 0.5454 - accuracy: 0.8089 - val_loss: 0.5023 - val_accuracy: 0.8231\n"
          ],
          "name": "stdout"
        }
      ]
    },
    {
      "cell_type": "code",
      "metadata": {
        "colab": {
          "base_uri": "https://localhost:8080/",
          "height": 316
        },
        "id": "ZpCWiUi8jXyi",
        "outputId": "6e90e8f0-9b3a-42ec-93a6-f8e0744c819d"
      },
      "source": [
        "plt.plot(historico.history['accuracy'])\n",
        "plt.plot(historico.history['val_accuracy'])\n",
        "plt.title('Acurácia por Épocas')\n",
        "plt.xlabel('Época')\n",
        "plt.ylabel('Acurácia')\n",
        "plt.legend(['Treino', 'Validação'])"
      ],
      "execution_count": null,
      "outputs": [
        {
          "output_type": "execute_result",
          "data": {
            "text/plain": [
              "<matplotlib.legend.Legend at 0x7fb32b83ded0>"
            ]
          },
          "metadata": {
            "tags": []
          },
          "execution_count": 42
        },
        {
          "output_type": "display_data",
          "data": {
            "image/png": "[encoded data removed]",
            "text/plain": [
              "<Figure size 432x288 with 1 Axes>"
            ]
          },
          "metadata": {
            "tags": [],
            "needs_background": "light"
          }
        }
      ]
    },
    {
      "cell_type": "code",
      "metadata": {
        "colab": {
          "base_uri": "https://localhost:8080/"
        },
        "id": "BXH8v2CZmQ96",
        "outputId": "faadec32-4356-47c7-d78c-d960cd6cb6ad"
      },
      "source": [
        "modelo.get_config()"
      ],
      "execution_count": null,
      "outputs": [
        {
          "output_type": "execute_result",
          "data": {
            "text/plain": [
              "{'layers': [{'class_name': 'InputLayer',\n",
              "   'config': {'batch_input_shape': (None, 28, 28),\n",
              "    'dtype': 'float32',\n",
              "    'name': 'flatten_1_input',\n",
              "    'ragged': False,\n",
              "    'sparse': False}},\n",
              "  {'class_name': 'Flatten',\n",
              "   'config': {'batch_input_shape': (None, 28, 28),\n",
              "    'data_format': 'channels_last',\n",
              "    'dtype': 'float32',\n",
              "    'name': 'flatten_1',\n",
              "    'trainable': True}},\n",
              "  {'class_name': 'Dense',\n",
              "   'config': {'activation': 'relu',\n",
              "    'activity_regularizer': None,\n",
              "    'bias_constraint': None,\n",
              "    'bias_initializer': {'class_name': 'Zeros', 'config': {}},\n",
              "    'bias_regularizer': None,\n",
              "    'dtype': 'float32',\n",
              "    'kernel_constraint': None,\n",
              "    'kernel_initializer': {'class_name': 'GlorotUniform',\n",
              "     'config': {'seed': None}},\n",
              "    'kernel_regularizer': None,\n",
              "    'name': 'dense_2',\n",
              "    'trainable': True,\n",
              "    'units': 256,\n",
              "    'use_bias': True}},\n",
              "  {'class_name': 'Dropout',\n",
              "   'config': {'dtype': 'float32',\n",
              "    'name': 'dropout',\n",
              "    'noise_shape': None,\n",
              "    'rate': 0.2,\n",
              "    'seed': None,\n",
              "    'trainable': True}},\n",
              "  {'class_name': 'Dense',\n",
              "   'config': {'activation': 'softmax',\n",
              "    'activity_regularizer': None,\n",
              "    'bias_constraint': None,\n",
              "    'bias_initializer': {'class_name': 'Zeros', 'config': {}},\n",
              "    'bias_regularizer': None,\n",
              "    'dtype': 'float32',\n",
              "    'kernel_constraint': None,\n",
              "    'kernel_initializer': {'class_name': 'GlorotUniform',\n",
              "     'config': {'seed': None}},\n",
              "    'kernel_regularizer': None,\n",
              "    'name': 'dense_3',\n",
              "    'trainable': True,\n",
              "    'units': 10,\n",
              "    'use_bias': True}}],\n",
              " 'name': 'sequential_1'}"
            ]
          },
          "metadata": {
            "tags": []
          },
          "execution_count": 43
        }
      ]
    },
    {
      "cell_type": "code",
      "metadata": {
        "id": "ttRH_4R4nBue"
      },
      "source": [
        "vieses_camada_dense_zerados = np.zeros((256,))\n",
        "vieses_camada_dense_aleatorios = np.random.rand(256,)\n",
        "\n",
        "modelo.layers[1].set_weights([pesos_camada_dense_aleatorios, vieses_camada_dense_zerados])"
      ],
      "execution_count": null,
      "outputs": []
    },
    {
      "cell_type": "code",
      "metadata": {
        "colab": {
          "base_uri": "https://localhost:8080/"
        },
        "id": "Uh5BHImlnNqy",
        "outputId": "0a9a90c6-0995-4540-e405-bbb3f89b3ff4"
      },
      "source": [
        "adam = keras.optimizers.Adam(lr = 0.001)\n",
        "\n",
        "callbacks = [keras.callbacks.EarlyStopping(monitor='val_loss'),\n",
        "             keras.callbacks.ModelCheckpoint(filepath='melhor_modelo.hdf5',\n",
        "                                             monitor='val_loss', save_best_only=True)]#Método de parar cedo caso o val_loss estacione em um valor\n",
        "\n",
        "modelo.compile(optimizer=adam, \n",
        "               loss='sparse_categorical_crossentropy',\n",
        "               metrics=['accuracy'])\n",
        "historico = modelo.fit(imagens_treino, identificacoes_treino, #batch_size= 480,\n",
        "                       epochs=5, validation_split=0.2, callbacks=callbacks)"
      ],
      "execution_count": null,
      "outputs": [
        {
          "output_type": "stream",
          "text": [
            "Epoch 1/5\n",
            "1500/1500 [==============================] - 5s 3ms/step - loss: 1.7696 - accuracy: 0.2963 - val_loss: 1.5258 - val_accuracy: 0.3863\n",
            "Epoch 2/5\n",
            "1500/1500 [==============================] - 4s 3ms/step - loss: 1.7747 - accuracy: 0.2920 - val_loss: 1.5281 - val_accuracy: 0.3769\n"
          ],
          "name": "stdout"
        }
      ]
    },
    {
      "cell_type": "code",
      "metadata": {
        "colab": {
          "base_uri": "https://localhost:8080/",
          "height": 316
        },
        "id": "Q5rbWmKLnoqx",
        "outputId": "b6794456-7596-4a68-dcf0-fa4e6ddd7832"
      },
      "source": [
        "plt.plot(historico.history['accuracy'])\n",
        "plt.plot(historico.history['val_accuracy'])\n",
        "plt.title('Acurácia por Épocas')\n",
        "plt.xlabel('Época')\n",
        "plt.ylabel('Acurácia')\n",
        "plt.legend(['Treino', 'Validação'])"
      ],
      "execution_count": null,
      "outputs": [
        {
          "output_type": "execute_result",
          "data": {
            "text/plain": [
              "<matplotlib.legend.Legend at 0x7fb32b65a5d0>"
            ]
          },
          "metadata": {
            "tags": []
          },
          "execution_count": 46
        },
        {
          "output_type": "display_data",
          "data": {
            "image/png": "[encoded data removed]",
            "text/plain": [
              "<Figure size 432x288 with 1 Axes>"
            ]
          },
          "metadata": {
            "tags": [],
            "needs_background": "light"
          }
        }
      ]
    },
    {
      "cell_type": "code",
      "metadata": {
        "id": "S8UwRMT6nqTi"
      },
      "source": [
        ""
      ],
      "execution_count": null,
      "outputs": []
    }
  ]
}