{
  "nbformat": 4,
  "nbformat_minor": 0,
  "metadata": {
    "colab": {
      "name": "1 - Introdução Machine Learning.ipynb",
      "provenance": [],
      "collapsed_sections": [],
      "authorship_tag": "ABX9TyPVY4yBJJtEgTpeYrNf4LGJ",
      "include_colab_link": true
    },
    "kernelspec": {
      "name": "python3",
      "display_name": "Python 3"
    },
    "language_info": {
      "name": "python"
    }
  },
  "cells": [
    {
      "cell_type": "markdown",
      "metadata": {
        "id": "view-in-github",
        "colab_type": "text"
      },
      "source": [
        "<a href=\"https://colab.research.google.com/github/Raksantos/A.I-Studying/blob/master/1_Introdu%C3%A7%C3%A3o_Machine_Learning.ipynb\" target=\"_parent\"><img src=\"https://colab.research.google.com/assets/colab-badge.svg\" alt=\"Open In Colab\"/></a>"
      ]
    },
    {
      "cell_type": "code",
      "metadata": {
        "id": "68bIQh84Qo1p"
      },
      "source": [
        "#features (1 sim, 0 não)\n",
        "#pelo longo?\n",
        "#perna curta?\n",
        "#faz auau?\n",
        "porco1 = [0, 1, 0];\n",
        "porco2 = [0, 1, 1];\n",
        "porco3 = [1, 1, 0];\n",
        "\n",
        "cachorro1 = [0, 1, 1];\n",
        "cachorro2 = [1, 0, 1];\n",
        "cachorro3 = [1, 1, 1];\n",
        "\n",
        "#1 = porco, 0 = cachorro;\n",
        "treino_x = [porco1, porco2, porco3, cachorro1, cachorro2, cachorro3];\n",
        "treino_y = [1, 1, 1, 0, 0, 0];"
      ],
      "execution_count": null,
      "outputs": []
    },
    {
      "cell_type": "code",
      "metadata": {
        "id": "P_Nk9CeDTU1M"
      },
      "source": [
        "from sklearn.svm import LinearSVC\n",
        "\n",
        "model = LinearSVC();\n",
        "model.fit(treino_x, treino_y);"
      ],
      "execution_count": null,
      "outputs": []
    },
    {
      "cell_type": "code",
      "metadata": {
        "colab": {
          "base_uri": "https://localhost:8080/"
        },
        "id": "v5I2XCMsTumV",
        "outputId": "86a07c66-8022-41ca-d607-38104756e493"
      },
      "source": [
        "animal_misterioso = [1, 1, 1];\n",
        "print(model.predict([animal_misterioso]));"
      ],
      "execution_count": null,
      "outputs": [
        {
          "output_type": "stream",
          "text": [
            "[0]\n"
          ],
          "name": "stdout"
        }
      ]
    },
    {
      "cell_type": "code",
      "metadata": {
        "id": "XHc7H7RMUcVa"
      },
      "source": [
        "misterio1 = [1, 1, 1];\n",
        "misterio2 = [1, 1, 0];\n",
        "misterio3 = [0, 1, 1];\n",
        "\n",
        "testes_x = [misterio1, misterio2, misterio3];\n",
        "testes_y = [0, 1, 1];\n",
        "\n",
        "previsoes = model.predict(testes_x);"
      ],
      "execution_count": null,
      "outputs": []
    },
    {
      "cell_type": "code",
      "metadata": {
        "colab": {
          "base_uri": "https://localhost:8080/"
        },
        "id": "GHX4hvMuWTKb",
        "outputId": "0e995948-0657-4c1a-cc38-17a4673ce1c3"
      },
      "source": [
        "corretos = (previsoes == testes_y).sum()\n",
        "total = len(testes_x)\n",
        "taxa_acerto = (corretos/total) * 100;\n",
        "print(\"Taxa de acerto %.2f\" % taxa_acerto)"
      ],
      "execution_count": null,
      "outputs": [
        {
          "output_type": "stream",
          "text": [
            "Taxa de acerto 66.67\n"
          ],
          "name": "stdout"
        }
      ]
    },
    {
      "cell_type": "code",
      "metadata": {
        "colab": {
          "base_uri": "https://localhost:8080/"
        },
        "id": "3ixVe08OWVhP",
        "outputId": "2493b217-89f5-41af-c4fd-22b77872d1ab"
      },
      "source": [
        "from sklearn.metrics import accuracy_score\n",
        "\n",
        "taxa_acerto = accuracy_score(testes_y, previsoes)\n",
        "taxa_acerto"
      ],
      "execution_count": null,
      "outputs": [
        {
          "output_type": "execute_result",
          "data": {
            "text/plain": [
              "0.6666666666666666"
            ]
          },
          "metadata": {
            "tags": []
          },
          "execution_count": 6
        }
      ]
    },
    {
      "cell_type": "code",
      "metadata": {
        "id": "JunHjqdSXOyC"
      },
      "source": [
        ""
      ],
      "execution_count": null,
      "outputs": []
    }
  ]
}