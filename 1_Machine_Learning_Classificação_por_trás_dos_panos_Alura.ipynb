{
  "nbformat": 4,
  "nbformat_minor": 0,
  "metadata": {
    "colab": {
      "name": "1 - Machine Learning: Classificação por trás dos panos - Alura.ipynb",
      "provenance": [],
      "toc_visible": true,
      "authorship_tag": "ABX9TyN6t6W4m+0R/qSV0DJWRBcs",
      "include_colab_link": true
    },
    "kernelspec": {
      "name": "python3",
      "display_name": "Python 3"
    },
    "language_info": {
      "name": "python"
    }
  },
  "cells": [
    {
      "cell_type": "markdown",
      "metadata": {
        "id": "view-in-github",
        "colab_type": "text"
      },
      "source": [
        "<a href=\"https://colab.research.google.com/github/Raksantos/A.I-Studying/blob/master/1_Machine_Learning_Classifica%C3%A7%C3%A3o_por_tr%C3%A1s_dos_panos_Alura.ipynb\" target=\"_parent\"><img src=\"https://colab.research.google.com/assets/colab-badge.svg\" alt=\"Open In Colab\"/></a>"
      ]
    },
    {
      "cell_type": "markdown",
      "metadata": {
        "id": "nvMuv8AGdlnK"
      },
      "source": [
        "#Aula 1"
      ]
    },
    {
      "cell_type": "code",
      "metadata": {
        "id": "4URE6xw1emsN"
      },
      "source": [
        "from sklearn.naive_bayes import MultinomialNB"
      ],
      "execution_count": null,
      "outputs": []
    },
    {
      "cell_type": "code",
      "metadata": {
        "id": "uEOklAd-djFr"
      },
      "source": [
        "porco1 = [1, 1, 0]\n",
        "porco2 = [1, 1, 0]\n",
        "porco3 = [1, 1, 0]\n",
        "cachorro1 = [1, 1, 1]\n",
        "cachorro2 = [0, 1, 1]\n",
        "cachorro3 = [0, 1, 1]\n",
        "\n",
        "dados = [porco1, porco2, porco3, cachorro1, cachorro2, cachorro3]"
      ],
      "execution_count": null,
      "outputs": []
    },
    {
      "cell_type": "code",
      "metadata": {
        "id": "ScJqB3rreQyk"
      },
      "source": [
        "marcacoes = [1, 1, 1, -1, -1, -1]"
      ],
      "execution_count": null,
      "outputs": []
    },
    {
      "cell_type": "code",
      "metadata": {
        "colab": {
          "base_uri": "https://localhost:8080/"
        },
        "id": "EanBYKB8eap1",
        "outputId": "6902d7e0-e1a5-4d22-cf9f-dbb2706e636e"
      },
      "source": [
        "misterioso = [1, 1, 1]\n",
        "misterioso2 = [1, 0, 0]\n",
        "misterioso3 = [0, 0, 1]\n",
        "\n",
        "teste = [misterioso, misterioso2, misterioso3]\n",
        "\n",
        "marcacoes_teste = [-1, 1, -1]\n",
        "\n",
        "modelo = MultinomialNB()\n",
        "modelo.fit(dados, marcacoes)\n",
        "print(modelo.predict(teste))"
      ],
      "execution_count": null,
      "outputs": [
        {
          "output_type": "stream",
          "text": [
            "[-1  1 -1]\n"
          ],
          "name": "stdout"
        }
      ]
    },
    {
      "cell_type": "code",
      "metadata": {
        "colab": {
          "base_uri": "https://localhost:8080/"
        },
        "id": "trwLyIltewf-",
        "outputId": "7bc7d787-2deb-425b-b635-e1c1318fc887"
      },
      "source": [
        "misterioso = [1, 1, 1]\n",
        "misterioso2 = [1, 0, 0]\n",
        "misterioso3 = [0, 0, 1]\n",
        "\n",
        "teste = [misterioso, misterioso2, misterioso3]\n",
        "\n",
        "marcacoes_teste = [-1, 1, -1]\n",
        "\n",
        "modelo = MultinomialNB()\n",
        "modelo.fit(dados, marcacoes)\n",
        "resultado = modelo.predict(teste)\n",
        "\n",
        "diferencas = resultado - marcacoes_teste\n",
        "\n",
        "acertos = [d for d in diferencas if d==0]\n",
        "total_acertos = len(acertos)\n",
        "total_elementos = len(teste)\n",
        "\n",
        "acuracia = total_acertos/total_elementos * 100\n",
        "acuracia "
      ],
      "execution_count": null,
      "outputs": [
        {
          "output_type": "execute_result",
          "data": {
            "text/plain": [
              "100.0"
            ]
          },
          "metadata": {
            "tags": []
          },
          "execution_count": 5
        }
      ]
    },
    {
      "cell_type": "markdown",
      "metadata": {
        "id": "NYbU3GxZVkbG"
      },
      "source": [
        "#Aula 2"
      ]
    },
    {
      "cell_type": "code",
      "metadata": {
        "id": "hvQIG1D0oxZe",
        "colab": {
          "base_uri": "https://localhost:8080/"
        },
        "outputId": "3d2b9c9e-a38f-4874-cb6b-83e99f605342"
      },
      "source": [
        "import pandas as pd\n",
        "\n",
        "dados = pd.read_csv(\"acesso.csv\")\n",
        "\n",
        "dados.head()"
      ],
      "execution_count": null,
      "outputs": [
        {
          "output_type": "execute_result",
          "data": {
            "text/html": [
              "<div>\n",
              "<style scoped>\n",
              "    .dataframe tbody tr th:only-of-type {\n",
              "        vertical-align: middle;\n",
              "    }\n",
              "\n",
              "    .dataframe tbody tr th {\n",
              "        vertical-align: top;\n",
              "    }\n",
              "\n",
              "    .dataframe thead th {\n",
              "        text-align: right;\n",
              "    }\n",
              "</style>\n",
              "<table border=\"1\" class=\"dataframe\">\n",
              "  <thead>\n",
              "    <tr style=\"text-align: right;\">\n",
              "      <th></th>\n",
              "      <th>acessou_home</th>\n",
              "      <th>acessou_como_funciona</th>\n",
              "      <th>acessou_contato</th>\n",
              "      <th>comprou</th>\n",
              "    </tr>\n",
              "  </thead>\n",
              "  <tbody>\n",
              "    <tr>\n",
              "      <th>0</th>\n",
              "      <td>1</td>\n",
              "      <td>1</td>\n",
              "      <td>0</td>\n",
              "      <td>0</td>\n",
              "    </tr>\n",
              "    <tr>\n",
              "      <th>1</th>\n",
              "      <td>1</td>\n",
              "      <td>1</td>\n",
              "      <td>0</td>\n",
              "      <td>0</td>\n",
              "    </tr>\n",
              "    <tr>\n",
              "      <th>2</th>\n",
              "      <td>1</td>\n",
              "      <td>1</td>\n",
              "      <td>0</td>\n",
              "      <td>0</td>\n",
              "    </tr>\n",
              "    <tr>\n",
              "      <th>3</th>\n",
              "      <td>1</td>\n",
              "      <td>1</td>\n",
              "      <td>0</td>\n",
              "      <td>0</td>\n",
              "    </tr>\n",
              "    <tr>\n",
              "      <th>4</th>\n",
              "      <td>1</td>\n",
              "      <td>1</td>\n",
              "      <td>0</td>\n",
              "      <td>0</td>\n",
              "    </tr>\n",
              "  </tbody>\n",
              "</table>\n",
              "</div>"
            ],
            "text/plain": [
              "   acessou_home  acessou_como_funciona  acessou_contato  comprou\n",
              "0             1                      1                0        0\n",
              "1             1                      1                0        0\n",
              "2             1                      1                0        0\n",
              "3             1                      1                0        0\n",
              "4             1                      1                0        0"
            ]
          },
          "metadata": {
            "tags": []
          },
          "execution_count": 6
        }
      ]
    },
    {
      "cell_type": "code",
      "metadata": {
        "id": "A-MHmIzlWtXW"
      },
      "source": [
        "raw_x = dados[['acessou_home', \"acessou_como_funciona\", \"acessou_contato\"]]\n",
        "raw_y = dados['comprou']"
      ],
      "execution_count": null,
      "outputs": []
    },
    {
      "cell_type": "code",
      "metadata": {
        "id": "E98GpBeCkeAs"
      },
      "source": [
        "import numpy as np\n",
        "from sklearn.naive_bayes import MultinomialNB\n",
        "from sklearn.model_selection import train_test_split\n",
        "from sklearn.metrics import accuracy_score\n",
        "\n",
        "SEED = 5\n",
        "\n",
        "np.random.seed(SEED)\n",
        "train_x, test_x, train_y, test_y = train_test_split(raw_x, raw_y, test_size = 0.25, stratify = raw_y) \n",
        "\n",
        "modelo = MultinomialNB()\n",
        "modelo.fit(train_x, train_y)\n",
        "\n",
        "previsoes = modelo.predict(test_x)"
      ],
      "execution_count": null,
      "outputs": []
    },
    {
      "cell_type": "code",
      "metadata": {
        "colab": {
          "base_uri": "https://localhost:8080/"
        },
        "id": "ilxjTtmzkqg4",
        "outputId": "296382f3-64de-455f-ddb2-51d2f9f521f5"
      },
      "source": [
        "acuracia = accuracy_score(test_y, previsoes) * 100\n",
        "acuracia"
      ],
      "execution_count": null,
      "outputs": [
        {
          "output_type": "execute_result",
          "data": {
            "text/plain": [
              "92.0"
            ]
          },
          "metadata": {
            "tags": []
          },
          "execution_count": 9
        }
      ]
    },
    {
      "cell_type": "markdown",
      "metadata": {
        "id": "0B5jixdQuuAy"
      },
      "source": [
        "#Aula 3"
      ]
    },
    {
      "cell_type": "code",
      "metadata": {
        "id": "h2R4XY02reGl",
        "colab": {
          "base_uri": "https://localhost:8080/",
          "height": 204
        },
        "outputId": "a35e97e5-c16a-42bb-f85a-d292cde58149"
      },
      "source": [
        "import pandas as pd\n",
        "\n",
        "data = pd.read_csv(\"busca.csv\")\n",
        "data.head()"
      ],
      "execution_count": null,
      "outputs": [
        {
          "output_type": "execute_result",
          "data": {
            "text/html": [
              "<div>\n",
              "<style scoped>\n",
              "    .dataframe tbody tr th:only-of-type {\n",
              "        vertical-align: middle;\n",
              "    }\n",
              "\n",
              "    .dataframe tbody tr th {\n",
              "        vertical-align: top;\n",
              "    }\n",
              "\n",
              "    .dataframe thead th {\n",
              "        text-align: right;\n",
              "    }\n",
              "</style>\n",
              "<table border=\"1\" class=\"dataframe\">\n",
              "  <thead>\n",
              "    <tr style=\"text-align: right;\">\n",
              "      <th></th>\n",
              "      <th>home</th>\n",
              "      <th>busca</th>\n",
              "      <th>logado</th>\n",
              "      <th>comprou</th>\n",
              "    </tr>\n",
              "  </thead>\n",
              "  <tbody>\n",
              "    <tr>\n",
              "      <th>0</th>\n",
              "      <td>0</td>\n",
              "      <td>algoritmos</td>\n",
              "      <td>1</td>\n",
              "      <td>1</td>\n",
              "    </tr>\n",
              "    <tr>\n",
              "      <th>1</th>\n",
              "      <td>0</td>\n",
              "      <td>java</td>\n",
              "      <td>0</td>\n",
              "      <td>1</td>\n",
              "    </tr>\n",
              "    <tr>\n",
              "      <th>2</th>\n",
              "      <td>1</td>\n",
              "      <td>algoritmos</td>\n",
              "      <td>0</td>\n",
              "      <td>1</td>\n",
              "    </tr>\n",
              "    <tr>\n",
              "      <th>3</th>\n",
              "      <td>1</td>\n",
              "      <td>ruby</td>\n",
              "      <td>1</td>\n",
              "      <td>0</td>\n",
              "    </tr>\n",
              "    <tr>\n",
              "      <th>4</th>\n",
              "      <td>1</td>\n",
              "      <td>ruby</td>\n",
              "      <td>0</td>\n",
              "      <td>1</td>\n",
              "    </tr>\n",
              "  </tbody>\n",
              "</table>\n",
              "</div>"
            ],
            "text/plain": [
              "   home       busca  logado  comprou\n",
              "0     0  algoritmos       1        1\n",
              "1     0        java       0        1\n",
              "2     1  algoritmos       0        1\n",
              "3     1        ruby       1        0\n",
              "4     1        ruby       0        1"
            ]
          },
          "metadata": {
            "tags": []
          },
          "execution_count": 10
        }
      ]
    },
    {
      "cell_type": "code",
      "metadata": {
        "id": "6P9YwAu8-Ynt"
      },
      "source": [
        "raw_x_df = data[['home', 'busca', 'logado']]\n",
        "raw_y_df = data['comprou']"
      ],
      "execution_count": null,
      "outputs": []
    },
    {
      "cell_type": "code",
      "metadata": {
        "colab": {
          "base_uri": "https://localhost:8080/",
          "height": 204
        },
        "id": "_wrTY4nhAVQN",
        "outputId": "57e06b93-1d72-4670-876a-8b9e7194fa89"
      },
      "source": [
        "raw_x_df = pd.get_dummies(raw_x_df)#transforma a variável categórica em dummies\n",
        "raw_x_df.head()"
      ],
      "execution_count": null,
      "outputs": [
        {
          "output_type": "execute_result",
          "data": {
            "text/html": [
              "<div>\n",
              "<style scoped>\n",
              "    .dataframe tbody tr th:only-of-type {\n",
              "        vertical-align: middle;\n",
              "    }\n",
              "\n",
              "    .dataframe tbody tr th {\n",
              "        vertical-align: top;\n",
              "    }\n",
              "\n",
              "    .dataframe thead th {\n",
              "        text-align: right;\n",
              "    }\n",
              "</style>\n",
              "<table border=\"1\" class=\"dataframe\">\n",
              "  <thead>\n",
              "    <tr style=\"text-align: right;\">\n",
              "      <th></th>\n",
              "      <th>home</th>\n",
              "      <th>logado</th>\n",
              "      <th>busca_algoritmos</th>\n",
              "      <th>busca_java</th>\n",
              "      <th>busca_ruby</th>\n",
              "    </tr>\n",
              "  </thead>\n",
              "  <tbody>\n",
              "    <tr>\n",
              "      <th>0</th>\n",
              "      <td>0</td>\n",
              "      <td>1</td>\n",
              "      <td>1</td>\n",
              "      <td>0</td>\n",
              "      <td>0</td>\n",
              "    </tr>\n",
              "    <tr>\n",
              "      <th>1</th>\n",
              "      <td>0</td>\n",
              "      <td>0</td>\n",
              "      <td>0</td>\n",
              "      <td>1</td>\n",
              "      <td>0</td>\n",
              "    </tr>\n",
              "    <tr>\n",
              "      <th>2</th>\n",
              "      <td>1</td>\n",
              "      <td>0</td>\n",
              "      <td>1</td>\n",
              "      <td>0</td>\n",
              "      <td>0</td>\n",
              "    </tr>\n",
              "    <tr>\n",
              "      <th>3</th>\n",
              "      <td>1</td>\n",
              "      <td>1</td>\n",
              "      <td>0</td>\n",
              "      <td>0</td>\n",
              "      <td>1</td>\n",
              "    </tr>\n",
              "    <tr>\n",
              "      <th>4</th>\n",
              "      <td>1</td>\n",
              "      <td>0</td>\n",
              "      <td>0</td>\n",
              "      <td>0</td>\n",
              "      <td>1</td>\n",
              "    </tr>\n",
              "  </tbody>\n",
              "</table>\n",
              "</div>"
            ],
            "text/plain": [
              "   home  logado  busca_algoritmos  busca_java  busca_ruby\n",
              "0     0       1                 1           0           0\n",
              "1     0       0                 0           1           0\n",
              "2     1       0                 1           0           0\n",
              "3     1       1                 0           0           1\n",
              "4     1       0                 0           0           1"
            ]
          },
          "metadata": {
            "tags": []
          },
          "execution_count": 12
        }
      ]
    },
    {
      "cell_type": "code",
      "metadata": {
        "id": "66uPfoBoAiw8"
      },
      "source": [
        "import numpy as np\n",
        "from sklearn.naive_bayes import MultinomialNB\n",
        "from sklearn.model_selection import train_test_split\n",
        "from sklearn.metrics import accuracy_score\n",
        "\n",
        "SEED = 5\n",
        "\n",
        "np.random.seed(SEED)\n",
        "\n",
        "train_x, test_x, train_y, test_y = train_test_split(raw_x_df, raw_y_df, test_size = 0.1, stratify = raw_y_df) \n",
        "\n",
        "modelo = MultinomialNB()\n",
        "modelo.fit(train_x, train_y)\n",
        "\n",
        "previsoes = modelo.predict(test_x)"
      ],
      "execution_count": null,
      "outputs": []
    },
    {
      "cell_type": "code",
      "metadata": {
        "colab": {
          "base_uri": "https://localhost:8080/"
        },
        "id": "vsJpCkkfDw8O",
        "outputId": "3e3bf7c7-9b17-414c-a526-5dcc7e22b899"
      },
      "source": [
        "acuracia = accuracy_score(test_y, previsoes) * 100\n",
        "acuracia"
      ],
      "execution_count": null,
      "outputs": [
        {
          "output_type": "execute_result",
          "data": {
            "text/plain": [
              "83.0"
            ]
          },
          "metadata": {
            "tags": []
          },
          "execution_count": 14
        }
      ]
    },
    {
      "cell_type": "code",
      "metadata": {
        "colab": {
          "base_uri": "https://localhost:8080/"
        },
        "id": "L2ztLRPnDznf",
        "outputId": "23299eff-2232-4547-95ca-03d04c5658f4"
      },
      "source": [
        "from sklearn.dummy import DummyClassifier\n",
        "\n",
        "dummy_stratified = DummyClassifier()\n",
        "dummy_stratified.fit(train_x, train_y)\n",
        "acuracia = dummy_stratified.score(test_x, test_y) * 100\n",
        "type(acuracia)"
      ],
      "execution_count": null,
      "outputs": [
        {
          "output_type": "stream",
          "text": [
            "/usr/local/lib/python3.7/dist-packages/sklearn/dummy.py:132: FutureWarning: The default value of strategy will change from stratified to prior in 0.24.\n",
            "  \"stratified to prior in 0.24.\", FutureWarning)\n"
          ],
          "name": "stderr"
        },
        {
          "output_type": "execute_result",
          "data": {
            "text/plain": [
              "numpy.float64"
            ]
          },
          "metadata": {
            "tags": []
          },
          "execution_count": 15
        }
      ]
    },
    {
      "cell_type": "markdown",
      "metadata": {
        "id": "ReHUy1si-Arn"
      },
      "source": [
        "#Aula 4"
      ]
    },
    {
      "cell_type": "code",
      "metadata": {
        "id": "jfnOWDjPpD3D",
        "colab": {
          "base_uri": "https://localhost:8080/",
          "height": 204
        },
        "outputId": "32d6eb16-5be1-4600-9ef1-99f6b6ed0246"
      },
      "source": [
        "import pandas as pd\n",
        "\n",
        "data = pd.read_csv(\"busca2.csv\")\n",
        "\n",
        "raw_x_df = data[['home', 'busca', 'logado']]\n",
        "raw_y_df = data['comprou']\n",
        "\n",
        "raw_x_df = pd.get_dummies(raw_x_df)#transforma a variável categórica em dummies\n",
        "raw_x_df.head()"
      ],
      "execution_count": null,
      "outputs": [
        {
          "output_type": "execute_result",
          "data": {
            "text/html": [
              "<div>\n",
              "<style scoped>\n",
              "    .dataframe tbody tr th:only-of-type {\n",
              "        vertical-align: middle;\n",
              "    }\n",
              "\n",
              "    .dataframe tbody tr th {\n",
              "        vertical-align: top;\n",
              "    }\n",
              "\n",
              "    .dataframe thead th {\n",
              "        text-align: right;\n",
              "    }\n",
              "</style>\n",
              "<table border=\"1\" class=\"dataframe\">\n",
              "  <thead>\n",
              "    <tr style=\"text-align: right;\">\n",
              "      <th></th>\n",
              "      <th>home</th>\n",
              "      <th>logado</th>\n",
              "      <th>busca_algoritmos</th>\n",
              "      <th>busca_java</th>\n",
              "      <th>busca_ruby</th>\n",
              "    </tr>\n",
              "  </thead>\n",
              "  <tbody>\n",
              "    <tr>\n",
              "      <th>0</th>\n",
              "      <td>0</td>\n",
              "      <td>1</td>\n",
              "      <td>0</td>\n",
              "      <td>0</td>\n",
              "      <td>1</td>\n",
              "    </tr>\n",
              "    <tr>\n",
              "      <th>1</th>\n",
              "      <td>1</td>\n",
              "      <td>0</td>\n",
              "      <td>1</td>\n",
              "      <td>0</td>\n",
              "      <td>0</td>\n",
              "    </tr>\n",
              "    <tr>\n",
              "      <th>2</th>\n",
              "      <td>0</td>\n",
              "      <td>0</td>\n",
              "      <td>1</td>\n",
              "      <td>0</td>\n",
              "      <td>0</td>\n",
              "    </tr>\n",
              "    <tr>\n",
              "      <th>3</th>\n",
              "      <td>1</td>\n",
              "      <td>1</td>\n",
              "      <td>0</td>\n",
              "      <td>1</td>\n",
              "      <td>0</td>\n",
              "    </tr>\n",
              "    <tr>\n",
              "      <th>4</th>\n",
              "      <td>1</td>\n",
              "      <td>0</td>\n",
              "      <td>1</td>\n",
              "      <td>0</td>\n",
              "      <td>0</td>\n",
              "    </tr>\n",
              "  </tbody>\n",
              "</table>\n",
              "</div>"
            ],
            "text/plain": [
              "   home  logado  busca_algoritmos  busca_java  busca_ruby\n",
              "0     0       1                 0           0           1\n",
              "1     1       0                 1           0           0\n",
              "2     0       0                 1           0           0\n",
              "3     1       1                 0           1           0\n",
              "4     1       0                 1           0           0"
            ]
          },
          "metadata": {
            "tags": []
          },
          "execution_count": 33
        }
      ]
    },
    {
      "cell_type": "code",
      "metadata": {
        "colab": {
          "base_uri": "https://localhost:8080/"
        },
        "id": "9CFJYJIpBjh0",
        "outputId": "7587bc49-0ad5-4212-f6f1-b553e6c2a6b8"
      },
      "source": [
        "import numpy as np\n",
        "from sklearn.naive_bayes import MultinomialNB\n",
        "from sklearn.model_selection import train_test_split\n",
        "from sklearn.metrics import accuracy_score\n",
        "\n",
        "SEED = 5\n",
        "\n",
        "np.random.seed(SEED)\n",
        "\n",
        "train_x, test_x, train_y, test_y = train_test_split(raw_x_df, raw_y_df, test_size = 0.1, stratify = raw_y_df) \n",
        "\n",
        "modelo = MultinomialNB()\n",
        "modelo.fit(train_x, train_y)\n",
        "\n",
        "previsoes = modelo.predict(test_x)\n",
        "\n",
        "acuracia = accuracy_score(test_y, previsoes) * 100\n",
        "print(\"A acurácia do MultinomialNB foi %.2f\" % acuracia)"
      ],
      "execution_count": null,
      "outputs": [
        {
          "output_type": "stream",
          "text": [
            "A acurácia do MultinomialNB foi 75.00\n"
          ],
          "name": "stdout"
        }
      ]
    },
    {
      "cell_type": "code",
      "metadata": {
        "colab": {
          "base_uri": "https://localhost:8080/"
        },
        "id": "LmRtu_faBriU",
        "outputId": "02d696c8-2f6a-46ec-a9ed-d924b3308a20"
      },
      "source": [
        "from sklearn.dummy import DummyClassifier\n",
        "\n",
        "dummy_stratified = DummyClassifier()\n",
        "dummy_stratified.fit(train_x, train_y)\n",
        "acuracia = dummy_stratified.score(test_x, test_y) * 100\n",
        "type(acuracia)\n",
        "\n",
        "print(\"A acurácia do dummy classifier foi %.2f\" % acuracia)"
      ],
      "execution_count": null,
      "outputs": [
        {
          "output_type": "stream",
          "text": [
            "A acurácia do dummy classifier foi 50.00\n"
          ],
          "name": "stdout"
        },
        {
          "output_type": "stream",
          "text": [
            "/usr/local/lib/python3.7/dist-packages/sklearn/dummy.py:132: FutureWarning: The default value of strategy will change from stratified to prior in 0.24.\n",
            "  \"stratified to prior in 0.24.\", FutureWarning)\n"
          ],
          "name": "stderr"
        }
      ]
    },
    {
      "cell_type": "code",
      "metadata": {
        "colab": {
          "base_uri": "https://localhost:8080/"
        },
        "id": "js6JSrxsBx0B",
        "outputId": "7053344b-b4cb-43f8-957e-1212abc05ab1"
      },
      "source": [
        "from sklearn.ensemble import AdaBoostClassifier\n",
        "from sklearn.model_selection import train_test_split\n",
        "from sklearn.metrics import accuracy_score\n",
        "\n",
        "SEED = 5\n",
        "\n",
        "np.random.seed(SEED)\n",
        "\n",
        "train_x, test_x, train_y, test_y = train_test_split(raw_x_df, raw_y_df, test_size = 0.1, stratify = raw_y_df) \n",
        "\n",
        "modelo = AdaBoostClassifier()\n",
        "modelo.fit(train_x, train_y)\n",
        "\n",
        "previsoes = modelo.predict(test_x)\n",
        "\n",
        "acuracia = accuracy_score(test_y, previsoes) * 100\n",
        "print(\"A acurácia do AdaBoost foi %.2f\" % acuracia)"
      ],
      "execution_count": null,
      "outputs": [
        {
          "output_type": "stream",
          "text": [
            "A acurácia do AdaBoost foi 62.50\n"
          ],
          "name": "stdout"
        }
      ]
    },
    {
      "cell_type": "code",
      "metadata": {
        "colab": {
          "base_uri": "https://localhost:8080/"
        },
        "id": "9xZD-_hyCBht",
        "outputId": "12383af7-ed3b-492b-cf4a-55935b914a91"
      },
      "source": [
        "from sklearn.dummy import DummyClassifier\n",
        "\n",
        "dummy_stratified = DummyClassifier()\n",
        "dummy_stratified.fit(train_x, train_y)\n",
        "acuracia = dummy_stratified.score(test_x, test_y) * 100\n",
        "type(acuracia)\n",
        "\n",
        "print(\"A acurácia do dummy classifier foi %.2f\" % acuracia)"
      ],
      "execution_count": null,
      "outputs": [
        {
          "output_type": "stream",
          "text": [
            "A acurácia do dummy classifier foi 37.50\n"
          ],
          "name": "stdout"
        },
        {
          "output_type": "stream",
          "text": [
            "/usr/local/lib/python3.7/dist-packages/sklearn/dummy.py:132: FutureWarning: The default value of strategy will change from stratified to prior in 0.24.\n",
            "  \"stratified to prior in 0.24.\", FutureWarning)\n"
          ],
          "name": "stderr"
        }
      ]
    },
    {
      "cell_type": "code",
      "metadata": {
        "id": "Cb8MnOXPCDCc"
      },
      "source": [
        "def fit_and_predict(modelo, raw_x_df, raw_y_df, your_train_size, your_test_size):\n",
        "  from sklearn.model_selection import train_test_split\n",
        "  from sklearn.metrics import accuracy_score\n",
        "  import numpy as np\n",
        "\n",
        "  SEED = 5\n",
        "\n",
        "  np.random.seed(SEED)\n",
        "\n",
        "  train_x, test_x, train_y, test_y = train_test_split(raw_x_df, raw_y_df, train_size =  your_train_size\n",
        "                                                      , test_size = your_test_size, stratify = raw_y_df) \n",
        "\n",
        "  modelo.fit(train_x, train_y)\n",
        "\n",
        "  previsoes = modelo.predict(test_x)\n",
        "\n",
        "  acuracia = accuracy_score(test_y, previsoes) * 100\n",
        "  return acuracia"
      ],
      "execution_count": null,
      "outputs": []
    },
    {
      "cell_type": "code",
      "metadata": {
        "colab": {
          "base_uri": "https://localhost:8080/"
        },
        "id": "8NNsEJTNCsW9",
        "outputId": "d1c123d7-dde9-44ba-d68e-6b4f4d891e52"
      },
      "source": [
        "from sklearn.dummy import DummyClassifier\n",
        "from sklearn.ensemble import AdaBoostClassifier\n",
        "from sklearn.naive_bayes import MultinomialNB\n",
        "\n",
        "modelo = DummyClassifier()\n",
        "\n",
        "acuracia = fit_and_predict(modelo, raw_x_df, raw_y_df, your_test_size = 0.1)\n",
        "\n",
        "print(\"Acurácia do Dummy Classifier foi %.2f\" % acuracia)\n",
        "\n",
        "modelo = MultinomialNB()\n",
        "\n",
        "acuracia = fit_and_predict(modelo, raw_x_df, raw_y_df, your_test_size = 0.1)\n",
        "\n",
        "print(\"Acurácia do MultinomialNB foi %.2f\" % acuracia)\n",
        "\n",
        "modelo = AdaBoostClassifier()\n",
        "\n",
        "acuracia = fit_and_predict(modelo, raw_x_df, raw_y_df, your_test_size = 0.1)\n",
        "\n",
        "print(\"Acurácia do AdaBoost foi %.2f\" % acuracia)"
      ],
      "execution_count": null,
      "outputs": [
        {
          "output_type": "stream",
          "text": [
            "Acurácia do Dummy Classifier foi 50.00\n",
            "Acurácia do MultinomialNB foi 75.00\n",
            "Acurácia do AdaBoost foi 62.50\n"
          ],
          "name": "stdout"
        },
        {
          "output_type": "stream",
          "text": [
            "/usr/local/lib/python3.7/dist-packages/sklearn/dummy.py:132: FutureWarning: The default value of strategy will change from stratified to prior in 0.24.\n",
            "  \"stratified to prior in 0.24.\", FutureWarning)\n"
          ],
          "name": "stderr"
        }
      ]
    },
    {
      "cell_type": "code",
      "metadata": {
        "id": "4Fb4zKW-D8CR"
      },
      "source": [
        ""
      ],
      "execution_count": null,
      "outputs": []
    }
  ]
}