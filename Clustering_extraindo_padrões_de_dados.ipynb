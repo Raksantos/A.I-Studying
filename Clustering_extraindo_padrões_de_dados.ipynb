{
  "nbformat": 4,
  "nbformat_minor": 0,
  "metadata": {
    "colab": {
      "name": "Clustering: extraindo padrões de dados.ipynb",
      "provenance": [],
      "toc_visible": true,
      "authorship_tag": "ABX9TyO3wCk7yliGn74m/NBtZ2pY",
      "include_colab_link": true
    },
    "kernelspec": {
      "display_name": "Python 3",
      "name": "python3"
    },
    "language_info": {
      "name": "python"
    }
  },
  "cells": [
    {
      "cell_type": "markdown",
      "metadata": {
        "id": "view-in-github",
        "colab_type": "text"
      },
      "source": [
        "<a href=\"https://colab.research.google.com/github/Raksantos/A.I-Studying/blob/master/Clustering_extraindo_padr%C3%B5es_de_dados.ipynb\" target=\"_parent\"><img src=\"https://colab.research.google.com/assets/colab-badge.svg\" alt=\"Open In Colab\"/></a>"
      ]
    },
    {
      "cell_type": "code",
      "metadata": {
        "colab": {
          "base_uri": "https://localhost:8080/",
          "height": 224
        },
        "id": "9khKdMQ3iII-",
        "outputId": "91504ec9-3223-461b-e8ee-aae16f6e42df"
      },
      "source": [
        "import pandas as  pd\n",
        "\n",
        "df = pd.read_csv(\"CC GENERAL.csv\")\n",
        "df.head()"
      ],
      "execution_count": null,
      "outputs": [
        {
          "output_type": "execute_result",
          "data": {
            "text/html": [
              "<div>\n",
              "<style scoped>\n",
              "    .dataframe tbody tr th:only-of-type {\n",
              "        vertical-align: middle;\n",
              "    }\n",
              "\n",
              "    .dataframe tbody tr th {\n",
              "        vertical-align: top;\n",
              "    }\n",
              "\n",
              "    .dataframe thead th {\n",
              "        text-align: right;\n",
              "    }\n",
              "</style>\n",
              "<table border=\"1\" class=\"dataframe\">\n",
              "  <thead>\n",
              "    <tr style=\"text-align: right;\">\n",
              "      <th></th>\n",
              "      <th>CUST_ID</th>\n",
              "      <th>BALANCE</th>\n",
              "      <th>BALANCE_FREQUENCY</th>\n",
              "      <th>PURCHASES</th>\n",
              "      <th>ONEOFF_PURCHASES</th>\n",
              "      <th>INSTALLMENTS_PURCHASES</th>\n",
              "      <th>CASH_ADVANCE</th>\n",
              "      <th>PURCHASES_FREQUENCY</th>\n",
              "      <th>ONEOFF_PURCHASES_FREQUENCY</th>\n",
              "      <th>PURCHASES_INSTALLMENTS_FREQUENCY</th>\n",
              "      <th>CASH_ADVANCE_FREQUENCY</th>\n",
              "      <th>CASH_ADVANCE_TRX</th>\n",
              "      <th>PURCHASES_TRX</th>\n",
              "      <th>CREDIT_LIMIT</th>\n",
              "      <th>PAYMENTS</th>\n",
              "      <th>MINIMUM_PAYMENTS</th>\n",
              "      <th>PRC_FULL_PAYMENT</th>\n",
              "      <th>TENURE</th>\n",
              "    </tr>\n",
              "  </thead>\n",
              "  <tbody>\n",
              "    <tr>\n",
              "      <th>0</th>\n",
              "      <td>C10001</td>\n",
              "      <td>40.900749</td>\n",
              "      <td>0.818182</td>\n",
              "      <td>95.40</td>\n",
              "      <td>0.00</td>\n",
              "      <td>95.4</td>\n",
              "      <td>0.000000</td>\n",
              "      <td>0.166667</td>\n",
              "      <td>0.000000</td>\n",
              "      <td>0.083333</td>\n",
              "      <td>0.000000</td>\n",
              "      <td>0</td>\n",
              "      <td>2</td>\n",
              "      <td>1000.0</td>\n",
              "      <td>201.802084</td>\n",
              "      <td>139.509787</td>\n",
              "      <td>0.000000</td>\n",
              "      <td>12</td>\n",
              "    </tr>\n",
              "    <tr>\n",
              "      <th>1</th>\n",
              "      <td>C10002</td>\n",
              "      <td>3202.467416</td>\n",
              "      <td>0.909091</td>\n",
              "      <td>0.00</td>\n",
              "      <td>0.00</td>\n",
              "      <td>0.0</td>\n",
              "      <td>6442.945483</td>\n",
              "      <td>0.000000</td>\n",
              "      <td>0.000000</td>\n",
              "      <td>0.000000</td>\n",
              "      <td>0.250000</td>\n",
              "      <td>4</td>\n",
              "      <td>0</td>\n",
              "      <td>7000.0</td>\n",
              "      <td>4103.032597</td>\n",
              "      <td>1072.340217</td>\n",
              "      <td>0.222222</td>\n",
              "      <td>12</td>\n",
              "    </tr>\n",
              "    <tr>\n",
              "      <th>2</th>\n",
              "      <td>C10003</td>\n",
              "      <td>2495.148862</td>\n",
              "      <td>1.000000</td>\n",
              "      <td>773.17</td>\n",
              "      <td>773.17</td>\n",
              "      <td>0.0</td>\n",
              "      <td>0.000000</td>\n",
              "      <td>1.000000</td>\n",
              "      <td>1.000000</td>\n",
              "      <td>0.000000</td>\n",
              "      <td>0.000000</td>\n",
              "      <td>0</td>\n",
              "      <td>12</td>\n",
              "      <td>7500.0</td>\n",
              "      <td>622.066742</td>\n",
              "      <td>627.284787</td>\n",
              "      <td>0.000000</td>\n",
              "      <td>12</td>\n",
              "    </tr>\n",
              "    <tr>\n",
              "      <th>3</th>\n",
              "      <td>C10004</td>\n",
              "      <td>1666.670542</td>\n",
              "      <td>0.636364</td>\n",
              "      <td>1499.00</td>\n",
              "      <td>1499.00</td>\n",
              "      <td>0.0</td>\n",
              "      <td>205.788017</td>\n",
              "      <td>0.083333</td>\n",
              "      <td>0.083333</td>\n",
              "      <td>0.000000</td>\n",
              "      <td>0.083333</td>\n",
              "      <td>1</td>\n",
              "      <td>1</td>\n",
              "      <td>7500.0</td>\n",
              "      <td>0.000000</td>\n",
              "      <td>NaN</td>\n",
              "      <td>0.000000</td>\n",
              "      <td>12</td>\n",
              "    </tr>\n",
              "    <tr>\n",
              "      <th>4</th>\n",
              "      <td>C10005</td>\n",
              "      <td>817.714335</td>\n",
              "      <td>1.000000</td>\n",
              "      <td>16.00</td>\n",
              "      <td>16.00</td>\n",
              "      <td>0.0</td>\n",
              "      <td>0.000000</td>\n",
              "      <td>0.083333</td>\n",
              "      <td>0.083333</td>\n",
              "      <td>0.000000</td>\n",
              "      <td>0.000000</td>\n",
              "      <td>0</td>\n",
              "      <td>1</td>\n",
              "      <td>1200.0</td>\n",
              "      <td>678.334763</td>\n",
              "      <td>244.791237</td>\n",
              "      <td>0.000000</td>\n",
              "      <td>12</td>\n",
              "    </tr>\n",
              "  </tbody>\n",
              "</table>\n",
              "</div>"
            ],
            "text/plain": [
              "  CUST_ID      BALANCE  ...  PRC_FULL_PAYMENT  TENURE\n",
              "0  C10001    40.900749  ...          0.000000      12\n",
              "1  C10002  3202.467416  ...          0.222222      12\n",
              "2  C10003  2495.148862  ...          0.000000      12\n",
              "3  C10004  1666.670542  ...          0.000000      12\n",
              "4  C10005   817.714335  ...          0.000000      12\n",
              "\n",
              "[5 rows x 18 columns]"
            ]
          },
          "metadata": {
            "tags": []
          },
          "execution_count": 1
        }
      ]
    },
    {
      "cell_type": "markdown",
      "metadata": {
        "id": "xeSlU203rWJL"
      },
      "source": [
        "#Pré-Processamento"
      ]
    },
    {
      "cell_type": "code",
      "metadata": {
        "colab": {
          "base_uri": "https://localhost:8080/",
          "height": 224
        },
        "id": "dGCzc-EVrXSo",
        "outputId": "8980effd-7ed5-4107-c0c8-d7f935995dd3"
      },
      "source": [
        "df.drop(columns = ['CUST_ID', 'TENURE'], inplace=True)\n",
        "df.head()"
      ],
      "execution_count": null,
      "outputs": [
        {
          "output_type": "execute_result",
          "data": {
            "text/html": [
              "<div>\n",
              "<style scoped>\n",
              "    .dataframe tbody tr th:only-of-type {\n",
              "        vertical-align: middle;\n",
              "    }\n",
              "\n",
              "    .dataframe tbody tr th {\n",
              "        vertical-align: top;\n",
              "    }\n",
              "\n",
              "    .dataframe thead th {\n",
              "        text-align: right;\n",
              "    }\n",
              "</style>\n",
              "<table border=\"1\" class=\"dataframe\">\n",
              "  <thead>\n",
              "    <tr style=\"text-align: right;\">\n",
              "      <th></th>\n",
              "      <th>BALANCE</th>\n",
              "      <th>BALANCE_FREQUENCY</th>\n",
              "      <th>PURCHASES</th>\n",
              "      <th>ONEOFF_PURCHASES</th>\n",
              "      <th>INSTALLMENTS_PURCHASES</th>\n",
              "      <th>CASH_ADVANCE</th>\n",
              "      <th>PURCHASES_FREQUENCY</th>\n",
              "      <th>ONEOFF_PURCHASES_FREQUENCY</th>\n",
              "      <th>PURCHASES_INSTALLMENTS_FREQUENCY</th>\n",
              "      <th>CASH_ADVANCE_FREQUENCY</th>\n",
              "      <th>CASH_ADVANCE_TRX</th>\n",
              "      <th>PURCHASES_TRX</th>\n",
              "      <th>CREDIT_LIMIT</th>\n",
              "      <th>PAYMENTS</th>\n",
              "      <th>MINIMUM_PAYMENTS</th>\n",
              "      <th>PRC_FULL_PAYMENT</th>\n",
              "    </tr>\n",
              "  </thead>\n",
              "  <tbody>\n",
              "    <tr>\n",
              "      <th>0</th>\n",
              "      <td>40.900749</td>\n",
              "      <td>0.818182</td>\n",
              "      <td>95.40</td>\n",
              "      <td>0.00</td>\n",
              "      <td>95.4</td>\n",
              "      <td>0.000000</td>\n",
              "      <td>0.166667</td>\n",
              "      <td>0.000000</td>\n",
              "      <td>0.083333</td>\n",
              "      <td>0.000000</td>\n",
              "      <td>0</td>\n",
              "      <td>2</td>\n",
              "      <td>1000.0</td>\n",
              "      <td>201.802084</td>\n",
              "      <td>139.509787</td>\n",
              "      <td>0.000000</td>\n",
              "    </tr>\n",
              "    <tr>\n",
              "      <th>1</th>\n",
              "      <td>3202.467416</td>\n",
              "      <td>0.909091</td>\n",
              "      <td>0.00</td>\n",
              "      <td>0.00</td>\n",
              "      <td>0.0</td>\n",
              "      <td>6442.945483</td>\n",
              "      <td>0.000000</td>\n",
              "      <td>0.000000</td>\n",
              "      <td>0.000000</td>\n",
              "      <td>0.250000</td>\n",
              "      <td>4</td>\n",
              "      <td>0</td>\n",
              "      <td>7000.0</td>\n",
              "      <td>4103.032597</td>\n",
              "      <td>1072.340217</td>\n",
              "      <td>0.222222</td>\n",
              "    </tr>\n",
              "    <tr>\n",
              "      <th>2</th>\n",
              "      <td>2495.148862</td>\n",
              "      <td>1.000000</td>\n",
              "      <td>773.17</td>\n",
              "      <td>773.17</td>\n",
              "      <td>0.0</td>\n",
              "      <td>0.000000</td>\n",
              "      <td>1.000000</td>\n",
              "      <td>1.000000</td>\n",
              "      <td>0.000000</td>\n",
              "      <td>0.000000</td>\n",
              "      <td>0</td>\n",
              "      <td>12</td>\n",
              "      <td>7500.0</td>\n",
              "      <td>622.066742</td>\n",
              "      <td>627.284787</td>\n",
              "      <td>0.000000</td>\n",
              "    </tr>\n",
              "    <tr>\n",
              "      <th>3</th>\n",
              "      <td>1666.670542</td>\n",
              "      <td>0.636364</td>\n",
              "      <td>1499.00</td>\n",
              "      <td>1499.00</td>\n",
              "      <td>0.0</td>\n",
              "      <td>205.788017</td>\n",
              "      <td>0.083333</td>\n",
              "      <td>0.083333</td>\n",
              "      <td>0.000000</td>\n",
              "      <td>0.083333</td>\n",
              "      <td>1</td>\n",
              "      <td>1</td>\n",
              "      <td>7500.0</td>\n",
              "      <td>0.000000</td>\n",
              "      <td>NaN</td>\n",
              "      <td>0.000000</td>\n",
              "    </tr>\n",
              "    <tr>\n",
              "      <th>4</th>\n",
              "      <td>817.714335</td>\n",
              "      <td>1.000000</td>\n",
              "      <td>16.00</td>\n",
              "      <td>16.00</td>\n",
              "      <td>0.0</td>\n",
              "      <td>0.000000</td>\n",
              "      <td>0.083333</td>\n",
              "      <td>0.083333</td>\n",
              "      <td>0.000000</td>\n",
              "      <td>0.000000</td>\n",
              "      <td>0</td>\n",
              "      <td>1</td>\n",
              "      <td>1200.0</td>\n",
              "      <td>678.334763</td>\n",
              "      <td>244.791237</td>\n",
              "      <td>0.000000</td>\n",
              "    </tr>\n",
              "  </tbody>\n",
              "</table>\n",
              "</div>"
            ],
            "text/plain": [
              "       BALANCE  BALANCE_FREQUENCY  ...  MINIMUM_PAYMENTS  PRC_FULL_PAYMENT\n",
              "0    40.900749           0.818182  ...        139.509787          0.000000\n",
              "1  3202.467416           0.909091  ...       1072.340217          0.222222\n",
              "2  2495.148862           1.000000  ...        627.284787          0.000000\n",
              "3  1666.670542           0.636364  ...               NaN          0.000000\n",
              "4   817.714335           1.000000  ...        244.791237          0.000000\n",
              "\n",
              "[5 rows x 16 columns]"
            ]
          },
          "metadata": {
            "tags": []
          },
          "execution_count": 2
        }
      ]
    },
    {
      "cell_type": "code",
      "metadata": {
        "colab": {
          "base_uri": "https://localhost:8080/"
        },
        "id": "qplOyVXprxZF",
        "outputId": "c48396a4-cf67-4959-9cd5-2c6446a25c34"
      },
      "source": [
        "missing_data = df.isna().sum()\n",
        "missing_data"
      ],
      "execution_count": null,
      "outputs": [
        {
          "output_type": "execute_result",
          "data": {
            "text/plain": [
              "BALANCE                               0\n",
              "BALANCE_FREQUENCY                     0\n",
              "PURCHASES                             0\n",
              "ONEOFF_PURCHASES                      0\n",
              "INSTALLMENTS_PURCHASES                0\n",
              "CASH_ADVANCE                          0\n",
              "PURCHASES_FREQUENCY                   0\n",
              "ONEOFF_PURCHASES_FREQUENCY            0\n",
              "PURCHASES_INSTALLMENTS_FREQUENCY      0\n",
              "CASH_ADVANCE_FREQUENCY                0\n",
              "CASH_ADVANCE_TRX                      0\n",
              "PURCHASES_TRX                         0\n",
              "CREDIT_LIMIT                          1\n",
              "PAYMENTS                              0\n",
              "MINIMUM_PAYMENTS                    313\n",
              "PRC_FULL_PAYMENT                      0\n",
              "dtype: int64"
            ]
          },
          "metadata": {
            "tags": []
          },
          "execution_count": 3
        }
      ]
    },
    {
      "cell_type": "code",
      "metadata": {
        "colab": {
          "base_uri": "https://localhost:8080/"
        },
        "id": "60-_Dnn5sITY",
        "outputId": "a714e168-82be-4678-ac5d-5553d2325ccf"
      },
      "source": [
        "df.fillna(df.median(), inplace=True)\n",
        "df.isna().sum()"
      ],
      "execution_count": null,
      "outputs": [
        {
          "output_type": "execute_result",
          "data": {
            "text/plain": [
              "BALANCE                             0\n",
              "BALANCE_FREQUENCY                   0\n",
              "PURCHASES                           0\n",
              "ONEOFF_PURCHASES                    0\n",
              "INSTALLMENTS_PURCHASES              0\n",
              "CASH_ADVANCE                        0\n",
              "PURCHASES_FREQUENCY                 0\n",
              "ONEOFF_PURCHASES_FREQUENCY          0\n",
              "PURCHASES_INSTALLMENTS_FREQUENCY    0\n",
              "CASH_ADVANCE_FREQUENCY              0\n",
              "CASH_ADVANCE_TRX                    0\n",
              "PURCHASES_TRX                       0\n",
              "CREDIT_LIMIT                        0\n",
              "PAYMENTS                            0\n",
              "MINIMUM_PAYMENTS                    0\n",
              "PRC_FULL_PAYMENT                    0\n",
              "dtype: int64"
            ]
          },
          "metadata": {
            "tags": []
          },
          "execution_count": 4
        }
      ]
    },
    {
      "cell_type": "code",
      "metadata": {
        "colab": {
          "base_uri": "https://localhost:8080/"
        },
        "id": "bbFZMlvTtG-3",
        "outputId": "b36d016b-8ee3-4176-a758-dc905501ea3e"
      },
      "source": [
        "from sklearn.preprocessing import Normalizer\n",
        "values = Normalizer().fit_transform(df.values)\n",
        "values"
      ],
      "execution_count": null,
      "outputs": [
        {
          "output_type": "execute_result",
          "data": {
            "text/plain": [
              "array([[3.93555441e-02, 7.87271593e-04, 9.17958473e-02, ...,\n",
              "        1.94178127e-01, 1.34239194e-01, 0.00000000e+00],\n",
              "       [2.93875903e-01, 8.34231560e-05, 0.00000000e+00, ...,\n",
              "        3.76516684e-01, 9.84037959e-02, 2.03923046e-05],\n",
              "       [3.10798149e-01, 1.24560965e-04, 9.63068011e-02, ...,\n",
              "        7.74852335e-02, 7.81351982e-02, 0.00000000e+00],\n",
              "       ...,\n",
              "       [2.27733092e-02, 8.11060955e-04, 1.40540698e-01, ...,\n",
              "        7.90986945e-02, 8.02156174e-02, 2.43318384e-04],\n",
              "       [2.65257948e-02, 1.64255731e-03, 0.00000000e+00, ...,\n",
              "        1.03579625e-01, 1.09898221e-01, 4.92767391e-04],\n",
              "       [1.86406219e-01, 3.33426837e-04, 5.46778061e-01, ...,\n",
              "        3.15915455e-02, 4.41568390e-02, 0.00000000e+00]])"
            ]
          },
          "metadata": {
            "tags": []
          },
          "execution_count": 5
        }
      ]
    },
    {
      "cell_type": "markdown",
      "metadata": {
        "id": "OHDJknYfouRR"
      },
      "source": [
        "#Clusterização dos Dados"
      ]
    },
    {
      "cell_type": "code",
      "metadata": {
        "id": "POympwa7trEO"
      },
      "source": [
        "from sklearn.cluster import KMeans\n",
        "\n",
        "cluster = KMeans(n_clusters=5, n_init=10, max_iter = 300)\n",
        "y_pred = cluster.fit_predict(values)"
      ],
      "execution_count": null,
      "outputs": []
    },
    {
      "cell_type": "code",
      "metadata": {
        "colab": {
          "base_uri": "https://localhost:8080/"
        },
        "id": "-XZN_3MCuQ2N",
        "outputId": "550e8592-8b9b-46e1-81b0-0900ce060230"
      },
      "source": [
        "from sklearn import metrics\n",
        "\n",
        "labels = cluster.labels_\n",
        "silhouette = metrics.silhouette_score(values, labels, metric=\"euclidean\")\n",
        "silhouette #valor bom, pois o silhouette varia de -1 até 1. Sendo maior que 0, já é algo positivo"
      ],
      "execution_count": null,
      "outputs": [
        {
          "output_type": "execute_result",
          "data": {
            "text/plain": [
              "0.36451198422831005"
            ]
          },
          "metadata": {
            "tags": []
          },
          "execution_count": 7
        }
      ]
    },
    {
      "cell_type": "code",
      "metadata": {
        "colab": {
          "base_uri": "https://localhost:8080/"
        },
        "id": "62NrbTmCyTvx",
        "outputId": "5ce37e2a-26ef-4475-c92e-e2402ccd55da"
      },
      "source": [
        "dbs = metrics.davies_bouldin_score(values, labels)\n",
        "dbs"
      ],
      "execution_count": null,
      "outputs": [
        {
          "output_type": "execute_result",
          "data": {
            "text/plain": [
              "1.0754963863506783"
            ]
          },
          "metadata": {
            "tags": []
          },
          "execution_count": 8
        }
      ]
    },
    {
      "cell_type": "code",
      "metadata": {
        "colab": {
          "base_uri": "https://localhost:8080/"
        },
        "id": "AQsznJSk2ynN",
        "outputId": "3406f86e-c61b-468b-bc7b-d2a5efdb35b0"
      },
      "source": [
        "calinski = metrics.calinski_harabasz_score(values, labels)\n",
        "calinski"
      ],
      "execution_count": null,
      "outputs": [
        {
          "output_type": "execute_result",
          "data": {
            "text/plain": [
              "3431.79476705023"
            ]
          },
          "metadata": {
            "tags": []
          },
          "execution_count": 9
        }
      ]
    },
    {
      "cell_type": "code",
      "metadata": {
        "id": "GFmJJByl9FAF"
      },
      "source": [
        "def clustering_algorithm(n_clusters, dataset):\n",
        "  kmeans = KMeans(n_clusters=n_clusters, n_init=10, max_iter=100)\n",
        "  labels = kmeans.fit_predict(dataset)\n",
        "\n",
        "  s = metrics.silhouette_score(dataset, labels, metric='euclidean')\n",
        "  dbs = metrics.davies_bouldin_score(dataset, labels)\n",
        "  calinski = metrics.calinski_harabasz_score(dataset, labels)\n",
        "\n",
        "  return s, dbs, calinski"
      ],
      "execution_count": null,
      "outputs": []
    },
    {
      "cell_type": "code",
      "metadata": {
        "colab": {
          "base_uri": "https://localhost:8080/"
        },
        "id": "y--55E5aAhha",
        "outputId": "7cb02312-fdca-42b4-da56-b3482826d43c"
      },
      "source": [
        "s1, dbs1, calinski1 = clustering_algorithm(3, values)\n",
        "print(s1, dbs1, calinski1)"
      ],
      "execution_count": null,
      "outputs": [
        {
          "output_type": "stream",
          "text": [
            "0.3271878995413032 1.304028302273611 3526.344301904406\n"
          ],
          "name": "stdout"
        }
      ]
    },
    {
      "cell_type": "code",
      "metadata": {
        "colab": {
          "base_uri": "https://localhost:8080/"
        },
        "id": "sGpF8qJlAs00",
        "outputId": "91ad32b3-0a9a-4e55-bcd4-77e5df53aeaf"
      },
      "source": [
        "s2, dbs2, calinski2 = clustering_algorithm(5, values)\n",
        "print(s2, dbs2, calinski2)"
      ],
      "execution_count": null,
      "outputs": [
        {
          "output_type": "stream",
          "text": [
            "0.36441830788777224 1.0760267630682159 3431.784426013862\n"
          ],
          "name": "stdout"
        }
      ]
    },
    {
      "cell_type": "code",
      "metadata": {
        "colab": {
          "base_uri": "https://localhost:8080/"
        },
        "id": "Qhjiv7iJAyPL",
        "outputId": "86f63600-a3d4-436d-8658-9a8958c3d24e"
      },
      "source": [
        "s3, dbs3, calinski3 = clustering_algorithm(10, values)\n",
        "print(s3, dbs3, calinski3)"
      ],
      "execution_count": null,
      "outputs": [
        {
          "output_type": "stream",
          "text": [
            "0.3513119469650607 1.1172342138727465 3019.197758451491\n"
          ],
          "name": "stdout"
        }
      ]
    },
    {
      "cell_type": "code",
      "metadata": {
        "id": "9RsyGvnPDOyG"
      },
      "source": [
        "import numpy as np"
      ],
      "execution_count": null,
      "outputs": []
    },
    {
      "cell_type": "code",
      "metadata": {
        "colab": {
          "base_uri": "https://localhost:8080/"
        },
        "id": "fm3AaQzkA1FR",
        "outputId": "694a1334-d659-4998-8a45-8ca4a739cd9e"
      },
      "source": [
        "df.count()"
      ],
      "execution_count": null,
      "outputs": [
        {
          "output_type": "execute_result",
          "data": {
            "text/plain": [
              "BALANCE                             8950\n",
              "BALANCE_FREQUENCY                   8950\n",
              "PURCHASES                           8950\n",
              "ONEOFF_PURCHASES                    8950\n",
              "INSTALLMENTS_PURCHASES              8950\n",
              "CASH_ADVANCE                        8950\n",
              "PURCHASES_FREQUENCY                 8950\n",
              "ONEOFF_PURCHASES_FREQUENCY          8950\n",
              "PURCHASES_INSTALLMENTS_FREQUENCY    8950\n",
              "CASH_ADVANCE_FREQUENCY              8950\n",
              "CASH_ADVANCE_TRX                    8950\n",
              "PURCHASES_TRX                       8950\n",
              "CREDIT_LIMIT                        8950\n",
              "PAYMENTS                            8950\n",
              "MINIMUM_PAYMENTS                    8950\n",
              "PRC_FULL_PAYMENT                    8950\n",
              "dtype: int64"
            ]
          },
          "metadata": {
            "tags": []
          },
          "execution_count": 15
        }
      ]
    },
    {
      "cell_type": "code",
      "metadata": {
        "colab": {
          "base_uri": "https://localhost:8080/"
        },
        "id": "wX1Kr5_YDTnd",
        "outputId": "1057bbc5-7da5-4095-d198-d66c136b6c16"
      },
      "source": [
        "random_data = np.random.rand(8950, 16)\n",
        "clustering_algorithm(5, random_data)"
      ],
      "execution_count": null,
      "outputs": [
        {
          "output_type": "execute_result",
          "data": {
            "text/plain": [
              "(0.04033651168566084, 3.4753871174632556, 305.43898611642123)"
            ]
          },
          "metadata": {
            "tags": []
          },
          "execution_count": 16
        }
      ]
    },
    {
      "cell_type": "code",
      "metadata": {
        "colab": {
          "base_uri": "https://localhost:8080/"
        },
        "id": "lmciraE3DXqF",
        "outputId": "981be058-958a-4881-a818-e1661ba567cf"
      },
      "source": [
        "set1, set2, set3 = np.array_split(values, 3)\n",
        "\n",
        "s1, dbs1, calinski1 = clustering_algorithm(5, set1)\n",
        "print(s1, dbs1, calinski1)\n",
        "s2, dbs2, calinski2 = clustering_algorithm(5, set2)\n",
        "print(s2, dbs2, calinski2)\n",
        "s3, dbs3, calinski3 = clustering_algorithm(5, set3)\n",
        "print(s3, dbs3, calinski3)"
      ],
      "execution_count": null,
      "outputs": [
        {
          "output_type": "stream",
          "text": [
            "0.3689813559141016 1.058368065665044 1204.0476800363158\n",
            "0.35406999696241026 1.1389554530299946 1194.945411949724\n",
            "0.367206263825063 1.0978523283321113 1167.5102424823506\n"
          ],
          "name": "stdout"
        }
      ]
    },
    {
      "cell_type": "code",
      "metadata": {
        "colab": {
          "base_uri": "https://localhost:8080/",
          "height": 279
        },
        "id": "Bz8qxKk_EFOI",
        "outputId": "870bb503-1981-46cc-c7b7-47aa71ce7162"
      },
      "source": [
        "import matplotlib.pyplot as plt\n",
        "plt.scatter(df['PURCHASES'], df['PAYMENTS'], c=labels, s=5, cmap=\"rainbow\")\n",
        "plt.xlabel(\"Valor total pago\")\n",
        "plt.ylabel(\"Valor total gasto\")\n",
        "\n",
        "plt.show()"
      ],
      "execution_count": null,
      "outputs": [
        {
          "output_type": "display_data",
          "data": {
            "image/png": "[encoded data removed]",
            "text/plain": [
              "<Figure size 432x288 with 1 Axes>"
            ]
          },
          "metadata": {
            "tags": [],
            "needs_background": "light"
          }
        }
      ]
    },
    {
      "cell_type": "markdown",
      "metadata": {
        "id": "nTd4Qgjgo4EV"
      },
      "source": [
        "#Entendo os valores dos Atributos no Cluster"
      ]
    },
    {
      "cell_type": "code",
      "metadata": {
        "colab": {
          "base_uri": "https://localhost:8080/",
          "height": 315
        },
        "id": "E4gZYku2nQtu",
        "outputId": "f160f40b-9904-4104-e14f-79d0ec19cb38"
      },
      "source": [
        "df.groupby(\"cluster\").describe()"
      ],
      "execution_count": null,
      "outputs": [
        {
          "output_type": "execute_result",
          "data": {
            "text/html": [
              "<div>\n",
              "<style scoped>\n",
              "    .dataframe tbody tr th:only-of-type {\n",
              "        vertical-align: middle;\n",
              "    }\n",
              "\n",
              "    .dataframe tbody tr th {\n",
              "        vertical-align: top;\n",
              "    }\n",
              "\n",
              "    .dataframe thead tr th {\n",
              "        text-align: left;\n",
              "    }\n",
              "\n",
              "    .dataframe thead tr:last-of-type th {\n",
              "        text-align: right;\n",
              "    }\n",
              "</style>\n",
              "<table border=\"1\" class=\"dataframe\">\n",
              "  <thead>\n",
              "    <tr>\n",
              "      <th></th>\n",
              "      <th colspan=\"8\" halign=\"left\">BALANCE</th>\n",
              "      <th colspan=\"8\" halign=\"left\">BALANCE_FREQUENCY</th>\n",
              "      <th colspan=\"8\" halign=\"left\">PURCHASES</th>\n",
              "      <th colspan=\"8\" halign=\"left\">ONEOFF_PURCHASES</th>\n",
              "      <th colspan=\"8\" halign=\"left\">INSTALLMENTS_PURCHASES</th>\n",
              "      <th>...</th>\n",
              "      <th colspan=\"8\" halign=\"left\">PURCHASES_TRX</th>\n",
              "      <th colspan=\"8\" halign=\"left\">CREDIT_LIMIT</th>\n",
              "      <th colspan=\"8\" halign=\"left\">PAYMENTS</th>\n",
              "      <th colspan=\"8\" halign=\"left\">MINIMUM_PAYMENTS</th>\n",
              "      <th colspan=\"8\" halign=\"left\">PRC_FULL_PAYMENT</th>\n",
              "    </tr>\n",
              "    <tr>\n",
              "      <th></th>\n",
              "      <th>count</th>\n",
              "      <th>mean</th>\n",
              "      <th>std</th>\n",
              "      <th>min</th>\n",
              "      <th>25%</th>\n",
              "      <th>50%</th>\n",
              "      <th>75%</th>\n",
              "      <th>max</th>\n",
              "      <th>count</th>\n",
              "      <th>mean</th>\n",
              "      <th>std</th>\n",
              "      <th>min</th>\n",
              "      <th>25%</th>\n",
              "      <th>50%</th>\n",
              "      <th>75%</th>\n",
              "      <th>max</th>\n",
              "      <th>count</th>\n",
              "      <th>mean</th>\n",
              "      <th>std</th>\n",
              "      <th>min</th>\n",
              "      <th>25%</th>\n",
              "      <th>50%</th>\n",
              "      <th>75%</th>\n",
              "      <th>max</th>\n",
              "      <th>count</th>\n",
              "      <th>mean</th>\n",
              "      <th>std</th>\n",
              "      <th>min</th>\n",
              "      <th>25%</th>\n",
              "      <th>50%</th>\n",
              "      <th>75%</th>\n",
              "      <th>max</th>\n",
              "      <th>count</th>\n",
              "      <th>mean</th>\n",
              "      <th>std</th>\n",
              "      <th>min</th>\n",
              "      <th>25%</th>\n",
              "      <th>50%</th>\n",
              "      <th>75%</th>\n",
              "      <th>max</th>\n",
              "      <th>...</th>\n",
              "      <th>count</th>\n",
              "      <th>mean</th>\n",
              "      <th>std</th>\n",
              "      <th>min</th>\n",
              "      <th>25%</th>\n",
              "      <th>50%</th>\n",
              "      <th>75%</th>\n",
              "      <th>max</th>\n",
              "      <th>count</th>\n",
              "      <th>mean</th>\n",
              "      <th>std</th>\n",
              "      <th>min</th>\n",
              "      <th>25%</th>\n",
              "      <th>50%</th>\n",
              "      <th>75%</th>\n",
              "      <th>max</th>\n",
              "      <th>count</th>\n",
              "      <th>mean</th>\n",
              "      <th>std</th>\n",
              "      <th>min</th>\n",
              "      <th>25%</th>\n",
              "      <th>50%</th>\n",
              "      <th>75%</th>\n",
              "      <th>max</th>\n",
              "      <th>count</th>\n",
              "      <th>mean</th>\n",
              "      <th>std</th>\n",
              "      <th>min</th>\n",
              "      <th>25%</th>\n",
              "      <th>50%</th>\n",
              "      <th>75%</th>\n",
              "      <th>max</th>\n",
              "      <th>count</th>\n",
              "      <th>mean</th>\n",
              "      <th>std</th>\n",
              "      <th>min</th>\n",
              "      <th>25%</th>\n",
              "      <th>50%</th>\n",
              "      <th>75%</th>\n",
              "      <th>max</th>\n",
              "    </tr>\n",
              "    <tr>\n",
              "      <th>cluster</th>\n",
              "      <th></th>\n",
              "      <th></th>\n",
              "      <th></th>\n",
              "      <th></th>\n",
              "      <th></th>\n",
              "      <th></th>\n",
              "      <th></th>\n",
              "      <th></th>\n",
              "      <th></th>\n",
              "      <th></th>\n",
              "      <th></th>\n",
              "      <th></th>\n",
              "      <th></th>\n",
              "      <th></th>\n",
              "      <th></th>\n",
              "      <th></th>\n",
              "      <th></th>\n",
              "      <th></th>\n",
              "      <th></th>\n",
              "      <th></th>\n",
              "      <th></th>\n",
              "      <th></th>\n",
              "      <th></th>\n",
              "      <th></th>\n",
              "      <th></th>\n",
              "      <th></th>\n",
              "      <th></th>\n",
              "      <th></th>\n",
              "      <th></th>\n",
              "      <th></th>\n",
              "      <th></th>\n",
              "      <th></th>\n",
              "      <th></th>\n",
              "      <th></th>\n",
              "      <th></th>\n",
              "      <th></th>\n",
              "      <th></th>\n",
              "      <th></th>\n",
              "      <th></th>\n",
              "      <th></th>\n",
              "      <th></th>\n",
              "      <th></th>\n",
              "      <th></th>\n",
              "      <th></th>\n",
              "      <th></th>\n",
              "      <th></th>\n",
              "      <th></th>\n",
              "      <th></th>\n",
              "      <th></th>\n",
              "      <th></th>\n",
              "      <th></th>\n",
              "      <th></th>\n",
              "      <th></th>\n",
              "      <th></th>\n",
              "      <th></th>\n",
              "      <th></th>\n",
              "      <th></th>\n",
              "      <th></th>\n",
              "      <th></th>\n",
              "      <th></th>\n",
              "      <th></th>\n",
              "      <th></th>\n",
              "      <th></th>\n",
              "      <th></th>\n",
              "      <th></th>\n",
              "      <th></th>\n",
              "      <th></th>\n",
              "      <th></th>\n",
              "      <th></th>\n",
              "      <th></th>\n",
              "      <th></th>\n",
              "      <th></th>\n",
              "      <th></th>\n",
              "      <th></th>\n",
              "      <th></th>\n",
              "      <th></th>\n",
              "      <th></th>\n",
              "      <th></th>\n",
              "      <th></th>\n",
              "      <th></th>\n",
              "      <th></th>\n",
              "    </tr>\n",
              "  </thead>\n",
              "  <tbody>\n",
              "    <tr>\n",
              "      <th>0</th>\n",
              "      <td>1538.0</td>\n",
              "      <td>1143.712630</td>\n",
              "      <td>1664.669654</td>\n",
              "      <td>0.000000</td>\n",
              "      <td>212.513230</td>\n",
              "      <td>555.745265</td>\n",
              "      <td>1371.943854</td>\n",
              "      <td>19043.138560</td>\n",
              "      <td>1538.0</td>\n",
              "      <td>0.928255</td>\n",
              "      <td>0.166098</td>\n",
              "      <td>0.000000</td>\n",
              "      <td>1.000000</td>\n",
              "      <td>1.0</td>\n",
              "      <td>1.0</td>\n",
              "      <td>1.0</td>\n",
              "      <td>1538.0</td>\n",
              "      <td>3274.692952</td>\n",
              "      <td>4075.669654</td>\n",
              "      <td>100.98</td>\n",
              "      <td>1148.8525</td>\n",
              "      <td>2144.49</td>\n",
              "      <td>3875.1575</td>\n",
              "      <td>49039.57</td>\n",
              "      <td>1538.0</td>\n",
              "      <td>2130.536775</td>\n",
              "      <td>3357.280589</td>\n",
              "      <td>0.0</td>\n",
              "      <td>399.82</td>\n",
              "      <td>1255.34</td>\n",
              "      <td>2564.4975</td>\n",
              "      <td>40761.25</td>\n",
              "      <td>1538.0</td>\n",
              "      <td>1144.773212</td>\n",
              "      <td>1690.166992</td>\n",
              "      <td>0.0</td>\n",
              "      <td>168.22</td>\n",
              "      <td>676.305</td>\n",
              "      <td>1446.4725</td>\n",
              "      <td>22500.00</td>\n",
              "      <td>...</td>\n",
              "      <td>1538.0</td>\n",
              "      <td>37.934330</td>\n",
              "      <td>41.244990</td>\n",
              "      <td>0.0</td>\n",
              "      <td>12.00</td>\n",
              "      <td>25.0</td>\n",
              "      <td>48.0</td>\n",
              "      <td>358.0</td>\n",
              "      <td>1538.0</td>\n",
              "      <td>4103.875261</td>\n",
              "      <td>3641.304205</td>\n",
              "      <td>200.0</td>\n",
              "      <td>1500.0</td>\n",
              "      <td>3000.0</td>\n",
              "      <td>6000.0</td>\n",
              "      <td>30000.0</td>\n",
              "      <td>1538.0</td>\n",
              "      <td>3046.004076</td>\n",
              "      <td>4077.069951</td>\n",
              "      <td>0.000000</td>\n",
              "      <td>944.241163</td>\n",
              "      <td>1890.180168</td>\n",
              "      <td>3723.350848</td>\n",
              "      <td>50721.483360</td>\n",
              "      <td>1538.0</td>\n",
              "      <td>541.711158</td>\n",
              "      <td>1110.736273</td>\n",
              "      <td>14.012997</td>\n",
              "      <td>168.837586</td>\n",
              "      <td>218.944029</td>\n",
              "      <td>524.765832</td>\n",
              "      <td>18621.013310</td>\n",
              "      <td>1538.0</td>\n",
              "      <td>0.278149</td>\n",
              "      <td>0.366934</td>\n",
              "      <td>0.0</td>\n",
              "      <td>0.0</td>\n",
              "      <td>0.083333</td>\n",
              "      <td>0.545455</td>\n",
              "      <td>1.0</td>\n",
              "    </tr>\n",
              "    <tr>\n",
              "      <th>1</th>\n",
              "      <td>412.0</td>\n",
              "      <td>1987.146873</td>\n",
              "      <td>1852.215743</td>\n",
              "      <td>70.794108</td>\n",
              "      <td>1020.146724</td>\n",
              "      <td>1338.918346</td>\n",
              "      <td>2133.415063</td>\n",
              "      <td>11670.179850</td>\n",
              "      <td>412.0</td>\n",
              "      <td>0.989512</td>\n",
              "      <td>0.046329</td>\n",
              "      <td>0.636364</td>\n",
              "      <td>1.000000</td>\n",
              "      <td>1.0</td>\n",
              "      <td>1.0</td>\n",
              "      <td>1.0</td>\n",
              "      <td>412.0</td>\n",
              "      <td>858.326286</td>\n",
              "      <td>1234.466309</td>\n",
              "      <td>0.00</td>\n",
              "      <td>150.0000</td>\n",
              "      <td>499.44</td>\n",
              "      <td>1052.0325</td>\n",
              "      <td>11147.33</td>\n",
              "      <td>412.0</td>\n",
              "      <td>184.124369</td>\n",
              "      <td>453.488371</td>\n",
              "      <td>0.0</td>\n",
              "      <td>0.00</td>\n",
              "      <td>0.00</td>\n",
              "      <td>150.3550</td>\n",
              "      <td>4020.33</td>\n",
              "      <td>412.0</td>\n",
              "      <td>675.041845</td>\n",
              "      <td>1126.959148</td>\n",
              "      <td>0.0</td>\n",
              "      <td>0.00</td>\n",
              "      <td>339.720</td>\n",
              "      <td>841.1725</td>\n",
              "      <td>10009.93</td>\n",
              "      <td>...</td>\n",
              "      <td>412.0</td>\n",
              "      <td>17.584951</td>\n",
              "      <td>23.935844</td>\n",
              "      <td>0.0</td>\n",
              "      <td>3.75</td>\n",
              "      <td>12.0</td>\n",
              "      <td>21.0</td>\n",
              "      <td>199.0</td>\n",
              "      <td>412.0</td>\n",
              "      <td>2226.699029</td>\n",
              "      <td>1976.603609</td>\n",
              "      <td>150.0</td>\n",
              "      <td>1000.0</td>\n",
              "      <td>1500.0</td>\n",
              "      <td>2500.0</td>\n",
              "      <td>11500.0</td>\n",
              "      <td>412.0</td>\n",
              "      <td>1338.974045</td>\n",
              "      <td>1440.334414</td>\n",
              "      <td>27.832777</td>\n",
              "      <td>437.354287</td>\n",
              "      <td>865.240409</td>\n",
              "      <td>1615.882236</td>\n",
              "      <td>8735.607835</td>\n",
              "      <td>412.0</td>\n",
              "      <td>6032.349113</td>\n",
              "      <td>8618.459711</td>\n",
              "      <td>201.615417</td>\n",
              "      <td>1526.671059</td>\n",
              "      <td>3006.480101</td>\n",
              "      <td>7086.774783</td>\n",
              "      <td>76406.207520</td>\n",
              "      <td>412.0</td>\n",
              "      <td>0.019271</td>\n",
              "      <td>0.090795</td>\n",
              "      <td>0.0</td>\n",
              "      <td>0.0</td>\n",
              "      <td>0.000000</td>\n",
              "      <td>0.000000</td>\n",
              "      <td>1.0</td>\n",
              "    </tr>\n",
              "    <tr>\n",
              "      <th>2</th>\n",
              "      <td>2648.0</td>\n",
              "      <td>3038.132314</td>\n",
              "      <td>2479.290949</td>\n",
              "      <td>6.824905</td>\n",
              "      <td>1256.126442</td>\n",
              "      <td>2173.994774</td>\n",
              "      <td>4224.605542</td>\n",
              "      <td>18495.558550</td>\n",
              "      <td>2648.0</td>\n",
              "      <td>0.963768</td>\n",
              "      <td>0.121799</td>\n",
              "      <td>0.090909</td>\n",
              "      <td>1.000000</td>\n",
              "      <td>1.0</td>\n",
              "      <td>1.0</td>\n",
              "      <td>1.0</td>\n",
              "      <td>2648.0</td>\n",
              "      <td>385.096760</td>\n",
              "      <td>776.859083</td>\n",
              "      <td>0.00</td>\n",
              "      <td>0.0000</td>\n",
              "      <td>61.42</td>\n",
              "      <td>435.0100</td>\n",
              "      <td>7823.74</td>\n",
              "      <td>2648.0</td>\n",
              "      <td>233.057319</td>\n",
              "      <td>554.254122</td>\n",
              "      <td>0.0</td>\n",
              "      <td>0.00</td>\n",
              "      <td>0.00</td>\n",
              "      <td>201.0550</td>\n",
              "      <td>7564.81</td>\n",
              "      <td>2648.0</td>\n",
              "      <td>152.128727</td>\n",
              "      <td>377.998331</td>\n",
              "      <td>0.0</td>\n",
              "      <td>0.00</td>\n",
              "      <td>0.000</td>\n",
              "      <td>121.9925</td>\n",
              "      <td>4092.67</td>\n",
              "      <td>...</td>\n",
              "      <td>2648.0</td>\n",
              "      <td>7.185423</td>\n",
              "      <td>15.122244</td>\n",
              "      <td>0.0</td>\n",
              "      <td>0.00</td>\n",
              "      <td>1.0</td>\n",
              "      <td>9.0</td>\n",
              "      <td>208.0</td>\n",
              "      <td>2648.0</td>\n",
              "      <td>4496.336858</td>\n",
              "      <td>3606.753387</td>\n",
              "      <td>200.0</td>\n",
              "      <td>1700.0</td>\n",
              "      <td>3000.0</td>\n",
              "      <td>6500.0</td>\n",
              "      <td>22000.0</td>\n",
              "      <td>2648.0</td>\n",
              "      <td>968.599396</td>\n",
              "      <td>920.305001</td>\n",
              "      <td>0.000000</td>\n",
              "      <td>377.165926</td>\n",
              "      <td>677.992099</td>\n",
              "      <td>1288.849300</td>\n",
              "      <td>11123.409180</td>\n",
              "      <td>2648.0</td>\n",
              "      <td>1021.861431</td>\n",
              "      <td>906.571486</td>\n",
              "      <td>67.786744</td>\n",
              "      <td>405.609760</td>\n",
              "      <td>710.406337</td>\n",
              "      <td>1330.437428</td>\n",
              "      <td>8345.641905</td>\n",
              "      <td>2648.0</td>\n",
              "      <td>0.001800</td>\n",
              "      <td>0.023264</td>\n",
              "      <td>0.0</td>\n",
              "      <td>0.0</td>\n",
              "      <td>0.000000</td>\n",
              "      <td>0.000000</td>\n",
              "      <td>0.6</td>\n",
              "    </tr>\n",
              "    <tr>\n",
              "      <th>3</th>\n",
              "      <td>1071.0</td>\n",
              "      <td>1795.836702</td>\n",
              "      <td>1983.632225</td>\n",
              "      <td>0.000000</td>\n",
              "      <td>506.773698</td>\n",
              "      <td>1088.056301</td>\n",
              "      <td>2317.702916</td>\n",
              "      <td>14581.459140</td>\n",
              "      <td>1071.0</td>\n",
              "      <td>0.861984</td>\n",
              "      <td>0.231299</td>\n",
              "      <td>0.000000</td>\n",
              "      <td>0.818182</td>\n",
              "      <td>1.0</td>\n",
              "      <td>1.0</td>\n",
              "      <td>1.0</td>\n",
              "      <td>1071.0</td>\n",
              "      <td>470.954463</td>\n",
              "      <td>1180.705352</td>\n",
              "      <td>0.00</td>\n",
              "      <td>0.0000</td>\n",
              "      <td>34.74</td>\n",
              "      <td>495.3500</td>\n",
              "      <td>22101.78</td>\n",
              "      <td>1071.0</td>\n",
              "      <td>281.866004</td>\n",
              "      <td>955.003503</td>\n",
              "      <td>0.0</td>\n",
              "      <td>0.00</td>\n",
              "      <td>0.00</td>\n",
              "      <td>229.5000</td>\n",
              "      <td>22101.78</td>\n",
              "      <td>1071.0</td>\n",
              "      <td>189.141419</td>\n",
              "      <td>506.513078</td>\n",
              "      <td>0.0</td>\n",
              "      <td>0.00</td>\n",
              "      <td>0.000</td>\n",
              "      <td>144.1800</td>\n",
              "      <td>8409.93</td>\n",
              "      <td>...</td>\n",
              "      <td>1071.0</td>\n",
              "      <td>7.307190</td>\n",
              "      <td>18.284152</td>\n",
              "      <td>0.0</td>\n",
              "      <td>0.00</td>\n",
              "      <td>1.0</td>\n",
              "      <td>8.0</td>\n",
              "      <td>308.0</td>\n",
              "      <td>1071.0</td>\n",
              "      <td>3975.416631</td>\n",
              "      <td>3514.957875</td>\n",
              "      <td>50.0</td>\n",
              "      <td>1500.0</td>\n",
              "      <td>2500.0</td>\n",
              "      <td>5750.0</td>\n",
              "      <td>21000.0</td>\n",
              "      <td>1071.0</td>\n",
              "      <td>4704.149015</td>\n",
              "      <td>5007.672204</td>\n",
              "      <td>193.747321</td>\n",
              "      <td>1685.396270</td>\n",
              "      <td>3056.424974</td>\n",
              "      <td>5960.088422</td>\n",
              "      <td>40627.595240</td>\n",
              "      <td>1071.0</td>\n",
              "      <td>735.583216</td>\n",
              "      <td>1121.498526</td>\n",
              "      <td>1.334075</td>\n",
              "      <td>221.631840</td>\n",
              "      <td>443.370345</td>\n",
              "      <td>887.346861</td>\n",
              "      <td>21235.065300</td>\n",
              "      <td>1071.0</td>\n",
              "      <td>0.117296</td>\n",
              "      <td>0.186974</td>\n",
              "      <td>0.0</td>\n",
              "      <td>0.0</td>\n",
              "      <td>0.083333</td>\n",
              "      <td>0.142857</td>\n",
              "      <td>1.0</td>\n",
              "    </tr>\n",
              "    <tr>\n",
              "      <th>4</th>\n",
              "      <td>3281.0</td>\n",
              "      <td>443.767052</td>\n",
              "      <td>846.269966</td>\n",
              "      <td>0.000000</td>\n",
              "      <td>23.390230</td>\n",
              "      <td>82.980060</td>\n",
              "      <td>411.727643</td>\n",
              "      <td>9630.367575</td>\n",
              "      <td>3281.0</td>\n",
              "      <td>0.774457</td>\n",
              "      <td>0.301682</td>\n",
              "      <td>0.000000</td>\n",
              "      <td>0.545455</td>\n",
              "      <td>1.0</td>\n",
              "      <td>1.0</td>\n",
              "      <td>1.0</td>\n",
              "      <td>3281.0</td>\n",
              "      <td>629.212624</td>\n",
              "      <td>758.918105</td>\n",
              "      <td>0.00</td>\n",
              "      <td>133.0000</td>\n",
              "      <td>363.71</td>\n",
              "      <td>833.9800</td>\n",
              "      <td>6407.67</td>\n",
              "      <td>3281.0</td>\n",
              "      <td>314.134532</td>\n",
              "      <td>566.415498</td>\n",
              "      <td>0.0</td>\n",
              "      <td>0.00</td>\n",
              "      <td>26.49</td>\n",
              "      <td>408.0100</td>\n",
              "      <td>6300.40</td>\n",
              "      <td>3281.0</td>\n",
              "      <td>315.412877</td>\n",
              "      <td>440.470770</td>\n",
              "      <td>0.0</td>\n",
              "      <td>0.00</td>\n",
              "      <td>167.050</td>\n",
              "      <td>427.9800</td>\n",
              "      <td>4116.00</td>\n",
              "      <td>...</td>\n",
              "      <td>3281.0</td>\n",
              "      <td>11.951234</td>\n",
              "      <td>14.076145</td>\n",
              "      <td>0.0</td>\n",
              "      <td>3.00</td>\n",
              "      <td>8.0</td>\n",
              "      <td>15.0</td>\n",
              "      <td>232.0</td>\n",
              "      <td>3281.0</td>\n",
              "      <td>5129.746043</td>\n",
              "      <td>3698.947137</td>\n",
              "      <td>300.0</td>\n",
              "      <td>2500.0</td>\n",
              "      <td>4000.0</td>\n",
              "      <td>7000.0</td>\n",
              "      <td>30000.0</td>\n",
              "      <td>3281.0</td>\n",
              "      <td>814.456295</td>\n",
              "      <td>963.378815</td>\n",
              "      <td>0.000000</td>\n",
              "      <td>221.277150</td>\n",
              "      <td>499.339328</td>\n",
              "      <td>1047.448996</td>\n",
              "      <td>8946.495566</td>\n",
              "      <td>3281.0</td>\n",
              "      <td>228.508769</td>\n",
              "      <td>236.562790</td>\n",
              "      <td>0.019163</td>\n",
              "      <td>119.964053</td>\n",
              "      <td>171.632980</td>\n",
              "      <td>248.700571</td>\n",
              "      <td>4483.503862</td>\n",
              "      <td>3281.0</td>\n",
              "      <td>0.246761</td>\n",
              "      <td>0.346705</td>\n",
              "      <td>0.0</td>\n",
              "      <td>0.0</td>\n",
              "      <td>0.000000</td>\n",
              "      <td>0.444444</td>\n",
              "      <td>1.0</td>\n",
              "    </tr>\n",
              "  </tbody>\n",
              "</table>\n",
              "<p>5 rows × 128 columns</p>\n",
              "</div>"
            ],
            "text/plain": [
              "        BALANCE                            ... PRC_FULL_PAYMENT               \n",
              "          count         mean          std  ...              50%       75%  max\n",
              "cluster                                    ...                                \n",
              "0        1538.0  1143.712630  1664.669654  ...         0.083333  0.545455  1.0\n",
              "1         412.0  1987.146873  1852.215743  ...         0.000000  0.000000  1.0\n",
              "2        2648.0  3038.132314  2479.290949  ...         0.000000  0.000000  0.6\n",
              "3        1071.0  1795.836702  1983.632225  ...         0.083333  0.142857  1.0\n",
              "4        3281.0   443.767052   846.269966  ...         0.000000  0.444444  1.0\n",
              "\n",
              "[5 rows x 128 columns]"
            ]
          },
          "metadata": {
            "tags": []
          },
          "execution_count": 20
        }
      ]
    },
    {
      "cell_type": "code",
      "metadata": {
        "colab": {
          "base_uri": "https://localhost:8080/"
        },
        "id": "hXgftzr0o5tq",
        "outputId": "45d5485b-496e-43a9-8b30-6d5ee2a378fc"
      },
      "source": [
        "centroids = cluster.cluster_centers_\n",
        "centroids"
      ],
      "execution_count": null,
      "outputs": [
        {
          "output_type": "execute_result",
          "data": {
            "text/plain": [
              "array([[1.59893172e-01, 2.45101382e-04, 4.38385714e-01, 2.57205740e-01,\n",
              "        1.81351596e-01, 2.60404572e-02, 2.04213900e-04, 8.90367629e-05,\n",
              "        1.50434389e-04, 9.40165310e-06, 1.70436759e-04, 6.17221746e-03,\n",
              "        6.03815441e-01, 4.02876087e-01, 8.52134751e-02, 7.19112993e-05],\n",
              "       [3.32972556e-01, 2.68240066e-04, 1.58923673e-01, 3.62178588e-02,\n",
              "        1.23089552e-01, 5.82140753e-02, 1.66817881e-04, 2.64295391e-05,\n",
              "        1.47135264e-04, 1.92748591e-05, 4.26896159e-04, 3.86195702e-03,\n",
              "        3.76646957e-01, 2.52402941e-01, 6.79571553e-01, 4.22964707e-06],\n",
              "       [5.04294070e-01, 2.72242076e-04, 6.17554553e-02, 3.62405829e-02,\n",
              "        2.55365937e-02, 2.52765717e-01, 6.72943541e-05, 2.57072238e-05,\n",
              "        4.50409323e-05, 5.74261583e-05, 1.15669149e-03, 1.33139220e-03,\n",
              "        7.19260678e-01, 1.66160406e-01, 1.79203910e-01, 5.52512128e-07],\n",
              "       [2.35481987e-01, 2.16532182e-04, 6.00600804e-02, 3.39871776e-02,\n",
              "        2.60781223e-02, 4.00599972e-01, 5.26908300e-05, 2.04104938e-05,\n",
              "        3.53115349e-05, 6.55611402e-05, 1.57284062e-03, 1.12114713e-03,\n",
              "        5.34945073e-01, 5.97780714e-01, 1.04603362e-01, 2.77383565e-05],\n",
              "       [6.91187945e-02, 2.30816694e-04, 1.21521078e-01, 4.80031635e-02,\n",
              "        7.36181130e-02, 2.43929836e-02, 1.72835316e-04, 3.36833100e-05,\n",
              "        1.40285541e-04, 7.93760274e-06, 1.24322926e-04, 2.86353752e-03,\n",
              "        9.43525517e-01, 1.53887007e-01, 5.68550654e-02, 7.61360874e-05]])"
            ]
          },
          "metadata": {
            "tags": []
          },
          "execution_count": 23
        }
      ]
    },
    {
      "cell_type": "code",
      "metadata": {
        "colab": {
          "base_uri": "https://localhost:8080/"
        },
        "id": "AV4TuPDYpAsL",
        "outputId": "d80ef37b-cb4b-4fb7-dd52-9e35277160c1"
      },
      "source": [
        "max = len(centroids[0])\n",
        "for i in range(max):\n",
        "  print(df.columns.values[i], \"\\n{:.4f}\".format(centroids[:, i].var()))"
      ],
      "execution_count": null,
      "outputs": [
        {
          "output_type": "stream",
          "text": [
            "BALANCE \n",
            "0.0224\n",
            "BALANCE_FREQUENCY \n",
            "0.0000\n",
            "PURCHASES \n",
            "0.0197\n",
            "ONEOFF_PURCHASES \n",
            "0.0077\n",
            "INSTALLMENTS_PURCHASES \n",
            "0.0036\n",
            "CASH_ADVANCE \n",
            "0.0226\n",
            "PURCHASES_FREQUENCY \n",
            "0.0000\n",
            "ONEOFF_PURCHASES_FREQUENCY \n",
            "0.0000\n",
            "PURCHASES_INSTALLMENTS_FREQUENCY \n",
            "0.0000\n",
            "CASH_ADVANCE_FREQUENCY \n",
            "0.0000\n",
            "CASH_ADVANCE_TRX \n",
            "0.0000\n",
            "PURCHASES_TRX \n",
            "0.0000\n",
            "CREDIT_LIMIT \n",
            "0.0360\n",
            "PAYMENTS \n",
            "0.0279\n",
            "MINIMUM_PAYMENTS \n",
            "0.0542\n",
            "PRC_FULL_PAYMENT \n",
            "0.0000\n"
          ],
          "name": "stdout"
        }
      ]
    },
    {
      "cell_type": "code",
      "metadata": {
        "id": "V46xq4lErB-s"
      },
      "source": [
        "BALANCE 0.0224\n",
        "PURCHASES 0.0197\n",
        "CASH_ADVANCE 0.0226\n",
        "CREDIT_LIMIT 0.0360\n",
        "PAYMENTS 0.0279"
      ],
      "execution_count": null,
      "outputs": []
    },
    {
      "cell_type": "code",
      "metadata": {
        "colab": {
          "base_uri": "https://localhost:8080/",
          "height": 289
        },
        "id": "ang2JOQBs9iD",
        "outputId": "8d2163f4-4d4a-4e53-dfb0-f5c22d4f01ab"
      },
      "source": [
        "description = df.groupby(\"cluster\")[\"BALANCE\", \"PURCHASES\", \"CASH_ADVANCE\", \"CREDIT_LIMIT\", \"PAYMENTS\"]\n",
        "n_clients = description.size()\n",
        "description = description.mean()\n",
        "description['n_clients'] = n_clients\n",
        "description"
      ],
      "execution_count": null,
      "outputs": [
        {
          "output_type": "stream",
          "text": [
            "/usr/local/lib/python3.7/dist-packages/ipykernel_launcher.py:1: FutureWarning: Indexing with multiple keys (implicitly converted to a tuple of keys) will be deprecated, use a list instead.\n",
            "  \"\"\"Entry point for launching an IPython kernel.\n"
          ],
          "name": "stderr"
        },
        {
          "output_type": "execute_result",
          "data": {
            "text/html": [
              "<div>\n",
              "<style scoped>\n",
              "    .dataframe tbody tr th:only-of-type {\n",
              "        vertical-align: middle;\n",
              "    }\n",
              "\n",
              "    .dataframe tbody tr th {\n",
              "        vertical-align: top;\n",
              "    }\n",
              "\n",
              "    .dataframe thead th {\n",
              "        text-align: right;\n",
              "    }\n",
              "</style>\n",
              "<table border=\"1\" class=\"dataframe\">\n",
              "  <thead>\n",
              "    <tr style=\"text-align: right;\">\n",
              "      <th></th>\n",
              "      <th>BALANCE</th>\n",
              "      <th>PURCHASES</th>\n",
              "      <th>CASH_ADVANCE</th>\n",
              "      <th>CREDIT_LIMIT</th>\n",
              "      <th>PAYMENTS</th>\n",
              "      <th>n_clients</th>\n",
              "    </tr>\n",
              "    <tr>\n",
              "      <th>cluster</th>\n",
              "      <th></th>\n",
              "      <th></th>\n",
              "      <th></th>\n",
              "      <th></th>\n",
              "      <th></th>\n",
              "      <th></th>\n",
              "    </tr>\n",
              "  </thead>\n",
              "  <tbody>\n",
              "    <tr>\n",
              "      <th>0</th>\n",
              "      <td>1143.712630</td>\n",
              "      <td>3274.692952</td>\n",
              "      <td>186.045097</td>\n",
              "      <td>4103.875261</td>\n",
              "      <td>3046.004076</td>\n",
              "      <td>1538</td>\n",
              "    </tr>\n",
              "    <tr>\n",
              "      <th>1</th>\n",
              "      <td>1987.146873</td>\n",
              "      <td>858.326286</td>\n",
              "      <td>420.107194</td>\n",
              "      <td>2226.699029</td>\n",
              "      <td>1338.974045</td>\n",
              "      <td>412</td>\n",
              "    </tr>\n",
              "    <tr>\n",
              "      <th>2</th>\n",
              "      <td>3038.132314</td>\n",
              "      <td>385.096760</td>\n",
              "      <td>1636.114441</td>\n",
              "      <td>4496.336858</td>\n",
              "      <td>968.599396</td>\n",
              "      <td>2648</td>\n",
              "    </tr>\n",
              "    <tr>\n",
              "      <th>3</th>\n",
              "      <td>1795.836702</td>\n",
              "      <td>470.954463</td>\n",
              "      <td>3272.160223</td>\n",
              "      <td>3975.416631</td>\n",
              "      <td>4704.149015</td>\n",
              "      <td>1071</td>\n",
              "    </tr>\n",
              "    <tr>\n",
              "      <th>4</th>\n",
              "      <td>443.767052</td>\n",
              "      <td>629.212624</td>\n",
              "      <td>141.652025</td>\n",
              "      <td>5129.746043</td>\n",
              "      <td>814.456295</td>\n",
              "      <td>3281</td>\n",
              "    </tr>\n",
              "  </tbody>\n",
              "</table>\n",
              "</div>"
            ],
            "text/plain": [
              "             BALANCE    PURCHASES  ...     PAYMENTS  n_clients\n",
              "cluster                            ...                        \n",
              "0        1143.712630  3274.692952  ...  3046.004076       1538\n",
              "1        1987.146873   858.326286  ...  1338.974045        412\n",
              "2        3038.132314   385.096760  ...   968.599396       2648\n",
              "3        1795.836702   470.954463  ...  4704.149015       1071\n",
              "4         443.767052   629.212624  ...   814.456295       3281\n",
              "\n",
              "[5 rows x 6 columns]"
            ]
          },
          "metadata": {
            "tags": []
          },
          "execution_count": 50
        }
      ]
    },
    {
      "cell_type": "markdown",
      "metadata": {
        "id": "ssVIoaTduvmG"
      },
      "source": [
        "#Interpretando os Clusters"
      ]
    },
    {
      "cell_type": "code",
      "metadata": {
        "id": "X9HH3ts7uxA6"
      },
      "source": [
        ""
      ],
      "execution_count": null,
      "outputs": []
    }
  ]
}